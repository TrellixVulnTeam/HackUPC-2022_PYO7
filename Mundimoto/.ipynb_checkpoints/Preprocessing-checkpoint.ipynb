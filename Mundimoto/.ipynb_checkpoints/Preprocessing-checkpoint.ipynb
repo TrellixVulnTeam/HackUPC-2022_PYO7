{
 "cells": [
  {
   "cell_type": "code",
   "execution_count": 141,
   "metadata": {
    "executionInfo": {
     "elapsed": 255,
     "status": "ok",
     "timestamp": 1651382733106,
     "user": {
      "displayName": "Sebastian Paglia",
      "userId": "05356319514303203784"
     },
     "user_tz": -120
    },
    "id": "1WAYFbbVMxNh"
   },
   "outputs": [],
   "source": [
    "## import libraries\n",
    "import pandas as pd\n",
    "import numpy as np\n",
    "from sklearn import preprocessing\n",
    "\n",
    "df = pd.read_csv('formatted/bikez_mundimoto.csv', sep=\",\")"
   ]
  },
  {
   "cell_type": "code",
   "execution_count": 4,
   "metadata": {
    "colab": {
     "base_uri": "https://localhost:8080/",
     "height": 768
    },
    "executionInfo": {
     "elapsed": 269,
     "status": "ok",
     "timestamp": 1651376050997,
     "user": {
      "displayName": "Sebastian Paglia",
      "userId": "05356319514303203784"
     },
     "user_tz": -120
    },
    "id": "xszAvZgup05E",
    "outputId": "bb87e92e-3b20-46a3-f1fc-d2b6d4646ee7"
   },
   "outputs": [
    {
     "data": {
      "text/html": [
       "\n",
       "  <div id=\"df-f2e65783-39a0-4be4-a962-53f8eecbb53c\">\n",
       "    <div class=\"colab-df-container\">\n",
       "      <div>\n",
       "<style scoped>\n",
       "    .dataframe tbody tr th:only-of-type {\n",
       "        vertical-align: middle;\n",
       "    }\n",
       "\n",
       "    .dataframe tbody tr th {\n",
       "        vertical-align: top;\n",
       "    }\n",
       "\n",
       "    .dataframe thead th {\n",
       "        text-align: right;\n",
       "    }\n",
       "</style>\n",
       "<table border=\"1\" class=\"dataframe\">\n",
       "  <thead>\n",
       "    <tr style=\"text-align: right;\">\n",
       "      <th></th>\n",
       "      <th>id</th>\n",
       "      <th>Brand</th>\n",
       "      <th>Model</th>\n",
       "      <th>Year</th>\n",
       "      <th>Odometer</th>\n",
       "      <th>Sell_Price</th>\n",
       "      <th>Purchase_Price</th>\n",
       "      <th>Category</th>\n",
       "      <th>Rating</th>\n",
       "      <th>Displacement (ccm)</th>\n",
       "      <th>...</th>\n",
       "      <th>Front suspension</th>\n",
       "      <th>Rear suspension</th>\n",
       "      <th>Dry weight (kg)</th>\n",
       "      <th>Wheelbase (mm)</th>\n",
       "      <th>Fuel capacity (lts)</th>\n",
       "      <th>Fuel system</th>\n",
       "      <th>Fuel control</th>\n",
       "      <th>Seat height (mm)</th>\n",
       "      <th>Cooling system</th>\n",
       "      <th>Color options</th>\n",
       "    </tr>\n",
       "  </thead>\n",
       "  <tbody>\n",
       "    <tr>\n",
       "      <th>0</th>\n",
       "      <td>204</td>\n",
       "      <td>honda</td>\n",
       "      <td>forza 125</td>\n",
       "      <td>2019</td>\n",
       "      <td>10200</td>\n",
       "      <td>3890</td>\n",
       "      <td>NaN</td>\n",
       "      <td>Scooter</td>\n",
       "      <td>NaN</td>\n",
       "      <td>124.9</td>\n",
       "      <td>...</td>\n",
       "      <td>Telescopic</td>\n",
       "      <td>Twin</td>\n",
       "      <td>NaN</td>\n",
       "      <td>1490.0</td>\n",
       "      <td>11.5</td>\n",
       "      <td>Injection. PGM-FI electronic fuel injection</td>\n",
       "      <td>Single Overhead Cams (SOHC)</td>\n",
       "      <td>780.0</td>\n",
       "      <td>Liquid</td>\n",
       "      <td>Gloss Black/Matt Cynos Grey Metallic, Matt Luc...</td>\n",
       "    </tr>\n",
       "    <tr>\n",
       "      <th>1</th>\n",
       "      <td>11219</td>\n",
       "      <td>honda</td>\n",
       "      <td>forza 125</td>\n",
       "      <td>2019</td>\n",
       "      <td>10000</td>\n",
       "      <td>3990</td>\n",
       "      <td>NaN</td>\n",
       "      <td>Scooter</td>\n",
       "      <td>NaN</td>\n",
       "      <td>124.9</td>\n",
       "      <td>...</td>\n",
       "      <td>Telescopic</td>\n",
       "      <td>Twin</td>\n",
       "      <td>NaN</td>\n",
       "      <td>1490.0</td>\n",
       "      <td>11.5</td>\n",
       "      <td>Injection. PGM-FI electronic fuel injection</td>\n",
       "      <td>Single Overhead Cams (SOHC)</td>\n",
       "      <td>780.0</td>\n",
       "      <td>Liquid</td>\n",
       "      <td>Gloss Black/Matt Cynos Grey Metallic, Matt Luc...</td>\n",
       "    </tr>\n",
       "    <tr>\n",
       "      <th>2</th>\n",
       "      <td>19244</td>\n",
       "      <td>honda</td>\n",
       "      <td>forza 125</td>\n",
       "      <td>2019</td>\n",
       "      <td>20000</td>\n",
       "      <td>3990</td>\n",
       "      <td>NaN</td>\n",
       "      <td>Scooter</td>\n",
       "      <td>NaN</td>\n",
       "      <td>124.9</td>\n",
       "      <td>...</td>\n",
       "      <td>Telescopic</td>\n",
       "      <td>Twin</td>\n",
       "      <td>NaN</td>\n",
       "      <td>1490.0</td>\n",
       "      <td>11.5</td>\n",
       "      <td>Injection. PGM-FI electronic fuel injection</td>\n",
       "      <td>Single Overhead Cams (SOHC)</td>\n",
       "      <td>780.0</td>\n",
       "      <td>Liquid</td>\n",
       "      <td>Gloss Black/Matt Cynos Grey Metallic, Matt Luc...</td>\n",
       "    </tr>\n",
       "    <tr>\n",
       "      <th>3</th>\n",
       "      <td>30080</td>\n",
       "      <td>honda</td>\n",
       "      <td>forza 125</td>\n",
       "      <td>2019</td>\n",
       "      <td>20000</td>\n",
       "      <td>3790</td>\n",
       "      <td>NaN</td>\n",
       "      <td>Scooter</td>\n",
       "      <td>NaN</td>\n",
       "      <td>124.9</td>\n",
       "      <td>...</td>\n",
       "      <td>Telescopic</td>\n",
       "      <td>Twin</td>\n",
       "      <td>NaN</td>\n",
       "      <td>1490.0</td>\n",
       "      <td>11.5</td>\n",
       "      <td>Injection. PGM-FI electronic fuel injection</td>\n",
       "      <td>Single Overhead Cams (SOHC)</td>\n",
       "      <td>780.0</td>\n",
       "      <td>Liquid</td>\n",
       "      <td>Gloss Black/Matt Cynos Grey Metallic, Matt Luc...</td>\n",
       "    </tr>\n",
       "    <tr>\n",
       "      <th>4</th>\n",
       "      <td>31925</td>\n",
       "      <td>honda</td>\n",
       "      <td>forza 125</td>\n",
       "      <td>2019</td>\n",
       "      <td>30000</td>\n",
       "      <td>3790</td>\n",
       "      <td>NaN</td>\n",
       "      <td>Scooter</td>\n",
       "      <td>NaN</td>\n",
       "      <td>124.9</td>\n",
       "      <td>...</td>\n",
       "      <td>Telescopic</td>\n",
       "      <td>Twin</td>\n",
       "      <td>NaN</td>\n",
       "      <td>1490.0</td>\n",
       "      <td>11.5</td>\n",
       "      <td>Injection. PGM-FI electronic fuel injection</td>\n",
       "      <td>Single Overhead Cams (SOHC)</td>\n",
       "      <td>780.0</td>\n",
       "      <td>Liquid</td>\n",
       "      <td>Gloss Black/Matt Cynos Grey Metallic, Matt Luc...</td>\n",
       "    </tr>\n",
       "  </tbody>\n",
       "</table>\n",
       "<p>5 rows × 32 columns</p>\n",
       "</div>\n",
       "      <button class=\"colab-df-convert\" onclick=\"convertToInteractive('df-f2e65783-39a0-4be4-a962-53f8eecbb53c')\"\n",
       "              title=\"Convert this dataframe to an interactive table.\"\n",
       "              style=\"display:none;\">\n",
       "        \n",
       "  <svg xmlns=\"http://www.w3.org/2000/svg\" height=\"24px\"viewBox=\"0 0 24 24\"\n",
       "       width=\"24px\">\n",
       "    <path d=\"M0 0h24v24H0V0z\" fill=\"none\"/>\n",
       "    <path d=\"M18.56 5.44l.94 2.06.94-2.06 2.06-.94-2.06-.94-.94-2.06-.94 2.06-2.06.94zm-11 1L8.5 8.5l.94-2.06 2.06-.94-2.06-.94L8.5 2.5l-.94 2.06-2.06.94zm10 10l.94 2.06.94-2.06 2.06-.94-2.06-.94-.94-2.06-.94 2.06-2.06.94z\"/><path d=\"M17.41 7.96l-1.37-1.37c-.4-.4-.92-.59-1.43-.59-.52 0-1.04.2-1.43.59L10.3 9.45l-7.72 7.72c-.78.78-.78 2.05 0 2.83L4 21.41c.39.39.9.59 1.41.59.51 0 1.02-.2 1.41-.59l7.78-7.78 2.81-2.81c.8-.78.8-2.07 0-2.86zM5.41 20L4 18.59l7.72-7.72 1.47 1.35L5.41 20z\"/>\n",
       "  </svg>\n",
       "      </button>\n",
       "      \n",
       "  <style>\n",
       "    .colab-df-container {\n",
       "      display:flex;\n",
       "      flex-wrap:wrap;\n",
       "      gap: 12px;\n",
       "    }\n",
       "\n",
       "    .colab-df-convert {\n",
       "      background-color: #E8F0FE;\n",
       "      border: none;\n",
       "      border-radius: 50%;\n",
       "      cursor: pointer;\n",
       "      display: none;\n",
       "      fill: #1967D2;\n",
       "      height: 32px;\n",
       "      padding: 0 0 0 0;\n",
       "      width: 32px;\n",
       "    }\n",
       "\n",
       "    .colab-df-convert:hover {\n",
       "      background-color: #E2EBFA;\n",
       "      box-shadow: 0px 1px 2px rgba(60, 64, 67, 0.3), 0px 1px 3px 1px rgba(60, 64, 67, 0.15);\n",
       "      fill: #174EA6;\n",
       "    }\n",
       "\n",
       "    [theme=dark] .colab-df-convert {\n",
       "      background-color: #3B4455;\n",
       "      fill: #D2E3FC;\n",
       "    }\n",
       "\n",
       "    [theme=dark] .colab-df-convert:hover {\n",
       "      background-color: #434B5C;\n",
       "      box-shadow: 0px 1px 3px 1px rgba(0, 0, 0, 0.15);\n",
       "      filter: drop-shadow(0px 1px 2px rgba(0, 0, 0, 0.3));\n",
       "      fill: #FFFFFF;\n",
       "    }\n",
       "  </style>\n",
       "\n",
       "      <script>\n",
       "        const buttonEl =\n",
       "          document.querySelector('#df-f2e65783-39a0-4be4-a962-53f8eecbb53c button.colab-df-convert');\n",
       "        buttonEl.style.display =\n",
       "          google.colab.kernel.accessAllowed ? 'block' : 'none';\n",
       "\n",
       "        async function convertToInteractive(key) {\n",
       "          const element = document.querySelector('#df-f2e65783-39a0-4be4-a962-53f8eecbb53c');\n",
       "          const dataTable =\n",
       "            await google.colab.kernel.invokeFunction('convertToInteractive',\n",
       "                                                     [key], {});\n",
       "          if (!dataTable) return;\n",
       "\n",
       "          const docLinkHtml = 'Like what you see? Visit the ' +\n",
       "            '<a target=\"_blank\" href=https://colab.research.google.com/notebooks/data_table.ipynb>data table notebook</a>'\n",
       "            + ' to learn more about interactive tables.';\n",
       "          element.innerHTML = '';\n",
       "          dataTable['output_type'] = 'display_data';\n",
       "          await google.colab.output.renderOutput(dataTable, element);\n",
       "          const docLink = document.createElement('div');\n",
       "          docLink.innerHTML = docLinkHtml;\n",
       "          element.appendChild(docLink);\n",
       "        }\n",
       "      </script>\n",
       "    </div>\n",
       "  </div>\n",
       "  "
      ],
      "text/plain": [
       "      id  Brand      Model  Year  Odometer  Sell_Price  Purchase_Price  \\\n",
       "0    204  honda  forza 125  2019     10200        3890             NaN   \n",
       "1  11219  honda  forza 125  2019     10000        3990             NaN   \n",
       "2  19244  honda  forza 125  2019     20000        3990             NaN   \n",
       "3  30080  honda  forza 125  2019     20000        3790             NaN   \n",
       "4  31925  honda  forza 125  2019     30000        3790             NaN   \n",
       "\n",
       "  Category  Rating  Displacement (ccm)  ...  Front suspension  \\\n",
       "0  Scooter     NaN               124.9  ...        Telescopic   \n",
       "1  Scooter     NaN               124.9  ...        Telescopic   \n",
       "2  Scooter     NaN               124.9  ...        Telescopic   \n",
       "3  Scooter     NaN               124.9  ...        Telescopic   \n",
       "4  Scooter     NaN               124.9  ...        Telescopic   \n",
       "\n",
       "   Rear suspension Dry weight (kg) Wheelbase (mm) Fuel capacity (lts)  \\\n",
       "0             Twin             NaN         1490.0                11.5   \n",
       "1             Twin             NaN         1490.0                11.5   \n",
       "2             Twin             NaN         1490.0                11.5   \n",
       "3             Twin             NaN         1490.0                11.5   \n",
       "4             Twin             NaN         1490.0                11.5   \n",
       "\n",
       "                                   Fuel system                 Fuel control  \\\n",
       "0  Injection. PGM-FI electronic fuel injection  Single Overhead Cams (SOHC)   \n",
       "1  Injection. PGM-FI electronic fuel injection  Single Overhead Cams (SOHC)   \n",
       "2  Injection. PGM-FI electronic fuel injection  Single Overhead Cams (SOHC)   \n",
       "3  Injection. PGM-FI electronic fuel injection  Single Overhead Cams (SOHC)   \n",
       "4  Injection. PGM-FI electronic fuel injection  Single Overhead Cams (SOHC)   \n",
       "\n",
       "  Seat height (mm) Cooling system  \\\n",
       "0            780.0         Liquid   \n",
       "1            780.0         Liquid   \n",
       "2            780.0         Liquid   \n",
       "3            780.0         Liquid   \n",
       "4            780.0         Liquid   \n",
       "\n",
       "                                       Color options  \n",
       "0  Gloss Black/Matt Cynos Grey Metallic, Matt Luc...  \n",
       "1  Gloss Black/Matt Cynos Grey Metallic, Matt Luc...  \n",
       "2  Gloss Black/Matt Cynos Grey Metallic, Matt Luc...  \n",
       "3  Gloss Black/Matt Cynos Grey Metallic, Matt Luc...  \n",
       "4  Gloss Black/Matt Cynos Grey Metallic, Matt Luc...  \n",
       "\n",
       "[5 rows x 32 columns]"
      ]
     },
     "execution_count": 4,
     "metadata": {},
     "output_type": "execute_result"
    }
   ],
   "source": [
    "df.head()"
   ]
  },
  {
   "cell_type": "code",
   "execution_count": 5,
   "metadata": {
    "colab": {
     "base_uri": "https://localhost:8080/"
    },
    "executionInfo": {
     "elapsed": 270,
     "status": "ok",
     "timestamp": 1651376061370,
     "user": {
      "displayName": "Sebastian Paglia",
      "userId": "05356319514303203784"
     },
     "user_tz": -120
    },
    "id": "p2JZyAMuSYw8",
    "outputId": "ab1f4343-f934-4fca-87c8-543c5f96788e"
   },
   "outputs": [
    {
     "name": "stdout",
     "output_type": "stream",
     "text": [
      "<class 'pandas.core.frame.DataFrame'>\n",
      "RangeIndex: 2720 entries, 0 to 2719\n",
      "Data columns (total 32 columns):\n",
      " #   Column               Non-Null Count  Dtype  \n",
      "---  ------               --------------  -----  \n",
      " 0   id                   2720 non-null   int64  \n",
      " 1   Brand                2720 non-null   object \n",
      " 2   Model                2720 non-null   object \n",
      " 3   Year                 2720 non-null   int64  \n",
      " 4   Odometer             2720 non-null   int64  \n",
      " 5   Sell_Price           2720 non-null   int64  \n",
      " 6   Purchase_Price       323 non-null    float64\n",
      " 7   Category             2720 non-null   object \n",
      " 8   Rating               2361 non-null   float64\n",
      " 9   Displacement (ccm)   2711 non-null   float64\n",
      " 10  Power (hp)           2357 non-null   float64\n",
      " 11  Torque (Nm)          2295 non-null   float64\n",
      " 12  Engine cylinder      2720 non-null   object \n",
      " 13  Engine stroke        2720 non-null   object \n",
      " 14  Gearbox              2481 non-null   object \n",
      " 15  Bore (mm)            2545 non-null   float64\n",
      " 16  Stroke (mm)          2545 non-null   float64\n",
      " 17  Transmission type    2560 non-null   object \n",
      " 18  Front brakes         2690 non-null   object \n",
      " 19  Rear brakes          2685 non-null   object \n",
      " 20  Front tire           2586 non-null   object \n",
      " 21  Rear tire            2585 non-null   object \n",
      " 22  Front suspension     2524 non-null   object \n",
      " 23  Rear suspension      2513 non-null   object \n",
      " 24  Dry weight (kg)      1838 non-null   float64\n",
      " 25  Wheelbase (mm)       2502 non-null   float64\n",
      " 26  Fuel capacity (lts)  2637 non-null   float64\n",
      " 27  Fuel system          2574 non-null   object \n",
      " 28  Fuel control         2206 non-null   object \n",
      " 29  Seat height (mm)     2590 non-null   float64\n",
      " 30  Cooling system       2576 non-null   object \n",
      " 31  Color options        2246 non-null   object \n",
      "dtypes: float64(11), int64(4), object(17)\n",
      "memory usage: 680.1+ KB\n"
     ]
    }
   ],
   "source": [
    "df.info()"
   ]
  },
  {
   "cell_type": "markdown",
   "metadata": {
    "id": "1R2E-hb_U9CK"
   },
   "source": [
    "# Set ranges"
   ]
  },
  {
   "cell_type": "code",
   "execution_count": 7,
   "metadata": {
    "colab": {
     "base_uri": "https://localhost:8080/"
    },
    "executionInfo": {
     "elapsed": 277,
     "status": "ok",
     "timestamp": 1651376119992,
     "user": {
      "displayName": "Sebastian Paglia",
      "userId": "05356319514303203784"
     },
     "user_tz": -120
    },
    "id": "d_9Jhlm5ijrl",
    "outputId": "2ffbba49-b03a-4606-a63c-6d3a7669bc3c"
   },
   "outputs": [
    {
     "data": {
      "text/plain": [
       "343268"
      ]
     },
     "execution_count": 7,
     "metadata": {},
     "output_type": "execute_result"
    }
   ],
   "source": [
    "df.Odometer.min() #13\n",
    "df.Odometer.max() #343268"
   ]
  },
  {
   "cell_type": "code",
   "execution_count": 8,
   "metadata": {
    "executionInfo": {
     "elapsed": 250,
     "status": "ok",
     "timestamp": 1651376352823,
     "user": {
      "displayName": "Sebastian Paglia",
      "userId": "05356319514303203784"
     },
     "user_tz": -120
    },
    "id": "bRj43kh97f0J"
   },
   "outputs": [],
   "source": [
    "def get_group_km(x):\n",
    "    if x <= 10000:\n",
    "        return '0-10000'\n",
    "    if x > 10000 and x <= 20000:\n",
    "        return '10000-20000'\n",
    "    if x > 20000 and x <= 30000:\n",
    "        return '20000-30000'\n",
    "    if x > 30000 and x <= 40000:\n",
    "        return '30000-40000'\n",
    "    if x > 40000 and x <= 50000:\n",
    "        return '40000-50000'\n",
    "    if x > 50000 and x <= 70000:\n",
    "        return '50000-70000'        \n",
    "    if x > 70000 and x <= 100000:\n",
    "        return '70000-100000'\n",
    "    if x > 1000000 and x <= 150000:\n",
    "        return '100000-150000'\n",
    "    if x > 2000000 and x <= 300000:\n",
    "        return '200000-300000'\n",
    "    if x > 3000000:\n",
    "        return '>300000'\n",
    "\n",
    "df['km_cat'] = df.Odometer.apply(lambda x : get_group_km(x))"
   ]
  },
  {
   "cell_type": "code",
   "execution_count": 10,
   "metadata": {
    "colab": {
     "base_uri": "https://localhost:8080/"
    },
    "executionInfo": {
     "elapsed": 281,
     "status": "ok",
     "timestamp": 1651376375709,
     "user": {
      "displayName": "Sebastian Paglia",
      "userId": "05356319514303203784"
     },
     "user_tz": -120
    },
    "id": "SJjhMCg_5Fy4",
    "outputId": "b6dbeb5f-8d80-4475-efa2-ce4a7fa6583f"
   },
   "outputs": [
    {
     "data": {
      "text/plain": [
       "2022"
      ]
     },
     "execution_count": 10,
     "metadata": {},
     "output_type": "execute_result"
    }
   ],
   "source": [
    "df.Year.min() #1986\n",
    "df.Year.max() #2022"
   ]
  },
  {
   "cell_type": "code",
   "execution_count": 11,
   "metadata": {
    "executionInfo": {
     "elapsed": 244,
     "status": "ok",
     "timestamp": 1651376482095,
     "user": {
      "displayName": "Sebastian Paglia",
      "userId": "05356319514303203784"
     },
     "user_tz": -120
    },
    "id": "m4YwrnFg5AcY"
   },
   "outputs": [],
   "source": [
    "df[\"yearcat\"]=pd.cut(df.Year,\n",
    "                  bins=pd.interval_range(start=1986, end=2022, freq=6))  "
   ]
  },
  {
   "cell_type": "code",
   "execution_count": 15,
   "metadata": {
    "colab": {
     "base_uri": "https://localhost:8080/"
    },
    "executionInfo": {
     "elapsed": 10,
     "status": "ok",
     "timestamp": 1651376612757,
     "user": {
      "displayName": "Sebastian Paglia",
      "userId": "05356319514303203784"
     },
     "user_tz": -120
    },
    "id": "L31v0gD_txqi",
    "outputId": "49758b88-4355-4d52-d139-d9068909cf03"
   },
   "outputs": [
    {
     "data": {
      "text/plain": [
       "count    2.720000e+03\n",
       "mean     9.112596e+03\n",
       "std      1.916784e+05\n",
       "min      0.000000e+00\n",
       "25%      2.590000e+03\n",
       "50%      4.290000e+03\n",
       "75%      6.790000e+03\n",
       "max      9.999999e+06\n",
       "Name: Sell_Price, dtype: float64"
      ]
     },
     "execution_count": 15,
     "metadata": {},
     "output_type": "execute_result"
    }
   ],
   "source": [
    "df.Sell_Price.describe()"
   ]
  },
  {
   "cell_type": "code",
   "execution_count": 14,
   "metadata": {
    "colab": {
     "base_uri": "https://localhost:8080/"
    },
    "executionInfo": {
     "elapsed": 264,
     "status": "ok",
     "timestamp": 1651376537380,
     "user": {
      "displayName": "Sebastian Paglia",
      "userId": "05356319514303203784"
     },
     "user_tz": -120
    },
    "id": "8AVfzL0x5bDp",
    "outputId": "d9de4239-e3f1-4416-ca68-a4194d6b8a2b"
   },
   "outputs": [
    {
     "data": {
      "text/plain": [
       "9999999"
      ]
     },
     "execution_count": 14,
     "metadata": {},
     "output_type": "execute_result"
    }
   ],
   "source": [
    "df.Sell_Price.min() #0\n",
    "df.Sell_Price.max() #9999999"
   ]
  },
  {
   "cell_type": "code",
   "execution_count": 21,
   "metadata": {
    "executionInfo": {
     "elapsed": 275,
     "status": "ok",
     "timestamp": 1651376979081,
     "user": {
      "displayName": "Sebastian Paglia",
      "userId": "05356319514303203784"
     },
     "user_tz": -120
    },
    "id": "QzNBqW9W7hi_"
   },
   "outputs": [],
   "source": [
    "def get_group_price(x):\n",
    "    if x <= 2000:\n",
    "        return '0-2000'\n",
    "    if x > 2000 and x <= 4000:\n",
    "        return '2000-4000'\n",
    "    if x > 4000 and x <= 6000:\n",
    "        return '4000-6000'\n",
    "    if x > 6000 and x <= 8000:\n",
    "        return '6000-8000'\n",
    "    if x > 8000 and x <= 10000:\n",
    "        return '8000-10000'\n",
    "    if x > 10000:\n",
    "        return '>10000'\n",
    "\n",
    "df['sell_price_cat'] = df.Sell_Price.apply(lambda x : get_group_price(x))"
   ]
  },
  {
   "cell_type": "code",
   "execution_count": 17,
   "metadata": {
    "colab": {
     "base_uri": "https://localhost:8080/"
    },
    "executionInfo": {
     "elapsed": 350,
     "status": "ok",
     "timestamp": 1651376788164,
     "user": {
      "displayName": "Sebastian Paglia",
      "userId": "05356319514303203784"
     },
     "user_tz": -120
    },
    "id": "pe3rqo57uZ8Q",
    "outputId": "2f50315e-4aae-420a-bd40-91c523dd4d61"
   },
   "outputs": [
    {
     "data": {
      "text/plain": [
       "count      323.000000\n",
       "mean      3900.619195\n",
       "std       3116.469737\n",
       "min         10.000000\n",
       "25%       1600.000000\n",
       "50%       3000.000000\n",
       "75%       5200.000000\n",
       "max      18500.000000\n",
       "Name: Purchase_Price, dtype: float64"
      ]
     },
     "execution_count": 17,
     "metadata": {},
     "output_type": "execute_result"
    }
   ],
   "source": [
    "df.Purchase_Price.describe()"
   ]
  },
  {
   "cell_type": "code",
   "execution_count": 20,
   "metadata": {
    "colab": {
     "base_uri": "https://localhost:8080/"
    },
    "executionInfo": {
     "elapsed": 260,
     "status": "ok",
     "timestamp": 1651376937607,
     "user": {
      "displayName": "Sebastian Paglia",
      "userId": "05356319514303203784"
     },
     "user_tz": -120
    },
    "id": "QcN8vC3_uxGy",
    "outputId": "d9f1329d-f959-4d9d-988d-35bf381c1f8f"
   },
   "outputs": [
    {
     "data": {
      "text/plain": [
       "18500.0"
      ]
     },
     "execution_count": 20,
     "metadata": {},
     "output_type": "execute_result"
    }
   ],
   "source": [
    "df.Purchase_Price.min() #10\n",
    "df.Purchase_Price.max() #18500"
   ]
  },
  {
   "cell_type": "code",
   "execution_count": 22,
   "metadata": {
    "executionInfo": {
     "elapsed": 262,
     "status": "ok",
     "timestamp": 1651376989629,
     "user": {
      "displayName": "Sebastian Paglia",
      "userId": "05356319514303203784"
     },
     "user_tz": -120
    },
    "id": "Bhti2myWuzEf"
   },
   "outputs": [],
   "source": [
    "df['purch_price_cat'] = df.Purchase_Price.apply(lambda x : get_group_price(x))"
   ]
  },
  {
   "cell_type": "code",
   "execution_count": 127,
   "metadata": {
    "colab": {
     "base_uri": "https://localhost:8080/"
    },
    "executionInfo": {
     "elapsed": 248,
     "status": "ok",
     "timestamp": 1651381978976,
     "user": {
      "displayName": "Sebastian Paglia",
      "userId": "05356319514303203784"
     },
     "user_tz": -120
    },
    "id": "bEz-XDQS51K-",
    "outputId": "747182b3-4563-44c2-e312-886d2f0d926a"
   },
   "outputs": [
    {
     "data": {
      "text/plain": [
       "214.0"
      ]
     },
     "execution_count": 127,
     "metadata": {},
     "output_type": "execute_result"
    }
   ],
   "source": [
    "df['Power (hp)'].min() #3\n",
    "df['Power (hp)'].max() #214"
   ]
  },
  {
   "cell_type": "code",
   "execution_count": 128,
   "metadata": {
    "executionInfo": {
     "elapsed": 3,
     "status": "ok",
     "timestamp": 1651381985386,
     "user": {
      "displayName": "Sebastian Paglia",
      "userId": "05356319514303203784"
     },
     "user_tz": -120
    },
    "id": "oWJXtD7hBv2l"
   },
   "outputs": [],
   "source": [
    "def get_hpw(x):\n",
    "  if x >= 0 and x <= 100:\n",
    "    return 1\n",
    "  if x > 100 and x <= 200:\n",
    "    return 2\n",
    "  if x > 200 :\n",
    "    return 3"
   ]
  },
  {
   "cell_type": "code",
   "execution_count": 129,
   "metadata": {
    "executionInfo": {
     "elapsed": 5,
     "status": "ok",
     "timestamp": 1651381987698,
     "user": {
      "displayName": "Sebastian Paglia",
      "userId": "05356319514303203784"
     },
     "user_tz": -120
    },
    "id": "wwfgyoxy5_Cr"
   },
   "outputs": [],
   "source": [
    "df[\"hpwcat\"]=df['Power (hp)'].apply(lambda x: get_hpw(x) )"
   ]
  },
  {
   "cell_type": "code",
   "execution_count": 125,
   "metadata": {
    "colab": {
     "base_uri": "https://localhost:8080/",
     "height": 1000
    },
    "executionInfo": {
     "elapsed": 251,
     "status": "ok",
     "timestamp": 1651381949362,
     "user": {
      "displayName": "Sebastian Paglia",
      "userId": "05356319514303203784"
     },
     "user_tz": -120
    },
    "id": "cMZ1M9s17i2a",
    "outputId": "cc8ba7ff-7563-4967-9e1c-9faa01bdeef7"
   },
   "outputs": [
    {
     "data": {
      "text/html": [
       "\n",
       "  <div id=\"df-5fcb424a-7fa1-4892-af53-1905da3fc8e1\">\n",
       "    <div class=\"colab-df-container\">\n",
       "      <div>\n",
       "<style scoped>\n",
       "    .dataframe tbody tr th:only-of-type {\n",
       "        vertical-align: middle;\n",
       "    }\n",
       "\n",
       "    .dataframe tbody tr th {\n",
       "        vertical-align: top;\n",
       "    }\n",
       "\n",
       "    .dataframe thead th {\n",
       "        text-align: right;\n",
       "    }\n",
       "</style>\n",
       "<table border=\"1\" class=\"dataframe\">\n",
       "  <thead>\n",
       "    <tr style=\"text-align: right;\">\n",
       "      <th></th>\n",
       "      <th>id</th>\n",
       "      <th>Brand</th>\n",
       "      <th>Model</th>\n",
       "      <th>Year</th>\n",
       "      <th>Odometer</th>\n",
       "      <th>Sell_Price</th>\n",
       "      <th>Purchase_Price</th>\n",
       "      <th>Category</th>\n",
       "      <th>Rating</th>\n",
       "      <th>Displacement (ccm)</th>\n",
       "      <th>...</th>\n",
       "      <th>Color options</th>\n",
       "      <th>km_cat</th>\n",
       "      <th>yearcat</th>\n",
       "      <th>price_cat</th>\n",
       "      <th>sell_price_cat</th>\n",
       "      <th>purch_price_cat</th>\n",
       "      <th>hpwcat</th>\n",
       "      <th>fuel</th>\n",
       "      <th>cc</th>\n",
       "      <th>licence</th>\n",
       "    </tr>\n",
       "  </thead>\n",
       "  <tbody>\n",
       "    <tr>\n",
       "      <th>0</th>\n",
       "      <td>204</td>\n",
       "      <td>honda</td>\n",
       "      <td>forza 125</td>\n",
       "      <td>2019</td>\n",
       "      <td>10200</td>\n",
       "      <td>3890</td>\n",
       "      <td>NaN</td>\n",
       "      <td>Scooter</td>\n",
       "      <td>NaN</td>\n",
       "      <td>124.9</td>\n",
       "      <td>...</td>\n",
       "      <td>Gloss Black/Matt Cynos Grey Metallic, Matt Luc...</td>\n",
       "      <td>10000-20000</td>\n",
       "      <td>(2016, 2022]</td>\n",
       "      <td>2000-4000</td>\n",
       "      <td>2000-4000</td>\n",
       "      <td>None</td>\n",
       "      <td>1.0</td>\n",
       "      <td>1</td>\n",
       "      <td>0-300</td>\n",
       "      <td>2.0</td>\n",
       "    </tr>\n",
       "    <tr>\n",
       "      <th>1</th>\n",
       "      <td>11219</td>\n",
       "      <td>honda</td>\n",
       "      <td>forza 125</td>\n",
       "      <td>2019</td>\n",
       "      <td>10000</td>\n",
       "      <td>3990</td>\n",
       "      <td>NaN</td>\n",
       "      <td>Scooter</td>\n",
       "      <td>NaN</td>\n",
       "      <td>124.9</td>\n",
       "      <td>...</td>\n",
       "      <td>Gloss Black/Matt Cynos Grey Metallic, Matt Luc...</td>\n",
       "      <td>0-10000</td>\n",
       "      <td>(2016, 2022]</td>\n",
       "      <td>2000-4000</td>\n",
       "      <td>2000-4000</td>\n",
       "      <td>None</td>\n",
       "      <td>1.0</td>\n",
       "      <td>1</td>\n",
       "      <td>0-300</td>\n",
       "      <td>2.0</td>\n",
       "    </tr>\n",
       "    <tr>\n",
       "      <th>2</th>\n",
       "      <td>19244</td>\n",
       "      <td>honda</td>\n",
       "      <td>forza 125</td>\n",
       "      <td>2019</td>\n",
       "      <td>20000</td>\n",
       "      <td>3990</td>\n",
       "      <td>NaN</td>\n",
       "      <td>Scooter</td>\n",
       "      <td>NaN</td>\n",
       "      <td>124.9</td>\n",
       "      <td>...</td>\n",
       "      <td>Gloss Black/Matt Cynos Grey Metallic, Matt Luc...</td>\n",
       "      <td>10000-20000</td>\n",
       "      <td>(2016, 2022]</td>\n",
       "      <td>2000-4000</td>\n",
       "      <td>2000-4000</td>\n",
       "      <td>None</td>\n",
       "      <td>1.0</td>\n",
       "      <td>1</td>\n",
       "      <td>0-300</td>\n",
       "      <td>2.0</td>\n",
       "    </tr>\n",
       "    <tr>\n",
       "      <th>3</th>\n",
       "      <td>30080</td>\n",
       "      <td>honda</td>\n",
       "      <td>forza 125</td>\n",
       "      <td>2019</td>\n",
       "      <td>20000</td>\n",
       "      <td>3790</td>\n",
       "      <td>NaN</td>\n",
       "      <td>Scooter</td>\n",
       "      <td>NaN</td>\n",
       "      <td>124.9</td>\n",
       "      <td>...</td>\n",
       "      <td>Gloss Black/Matt Cynos Grey Metallic, Matt Luc...</td>\n",
       "      <td>10000-20000</td>\n",
       "      <td>(2016, 2022]</td>\n",
       "      <td>2000-4000</td>\n",
       "      <td>2000-4000</td>\n",
       "      <td>None</td>\n",
       "      <td>1.0</td>\n",
       "      <td>1</td>\n",
       "      <td>0-300</td>\n",
       "      <td>2.0</td>\n",
       "    </tr>\n",
       "    <tr>\n",
       "      <th>4</th>\n",
       "      <td>31925</td>\n",
       "      <td>honda</td>\n",
       "      <td>forza 125</td>\n",
       "      <td>2019</td>\n",
       "      <td>30000</td>\n",
       "      <td>3790</td>\n",
       "      <td>NaN</td>\n",
       "      <td>Scooter</td>\n",
       "      <td>NaN</td>\n",
       "      <td>124.9</td>\n",
       "      <td>...</td>\n",
       "      <td>Gloss Black/Matt Cynos Grey Metallic, Matt Luc...</td>\n",
       "      <td>20000-30000</td>\n",
       "      <td>(2016, 2022]</td>\n",
       "      <td>2000-4000</td>\n",
       "      <td>2000-4000</td>\n",
       "      <td>None</td>\n",
       "      <td>1.0</td>\n",
       "      <td>1</td>\n",
       "      <td>0-300</td>\n",
       "      <td>2.0</td>\n",
       "    </tr>\n",
       "    <tr>\n",
       "      <th>...</th>\n",
       "      <td>...</td>\n",
       "      <td>...</td>\n",
       "      <td>...</td>\n",
       "      <td>...</td>\n",
       "      <td>...</td>\n",
       "      <td>...</td>\n",
       "      <td>...</td>\n",
       "      <td>...</td>\n",
       "      <td>...</td>\n",
       "      <td>...</td>\n",
       "      <td>...</td>\n",
       "      <td>...</td>\n",
       "      <td>...</td>\n",
       "      <td>...</td>\n",
       "      <td>...</td>\n",
       "      <td>...</td>\n",
       "      <td>...</td>\n",
       "      <td>...</td>\n",
       "      <td>...</td>\n",
       "      <td>...</td>\n",
       "      <td>...</td>\n",
       "    </tr>\n",
       "    <tr>\n",
       "      <th>2715</th>\n",
       "      <td>54700</td>\n",
       "      <td>triumph</td>\n",
       "      <td>tiger 800</td>\n",
       "      <td>2013</td>\n",
       "      <td>80000</td>\n",
       "      <td>5990</td>\n",
       "      <td>NaN</td>\n",
       "      <td>Sport</td>\n",
       "      <td>3.6</td>\n",
       "      <td>800.0</td>\n",
       "      <td>...</td>\n",
       "      <td>Black, white, blue</td>\n",
       "      <td>70000-100000</td>\n",
       "      <td>(2010, 2016]</td>\n",
       "      <td>4000-6000</td>\n",
       "      <td>4000-6000</td>\n",
       "      <td>None</td>\n",
       "      <td>1.0</td>\n",
       "      <td>1</td>\n",
       "      <td>600-900</td>\n",
       "      <td>3.0</td>\n",
       "    </tr>\n",
       "    <tr>\n",
       "      <th>2716</th>\n",
       "      <td>54838</td>\n",
       "      <td>harley davidson</td>\n",
       "      <td>dyna street bob</td>\n",
       "      <td>2016</td>\n",
       "      <td>80000</td>\n",
       "      <td>11290</td>\n",
       "      <td>NaN</td>\n",
       "      <td>Custom / cruiser</td>\n",
       "      <td>3.1</td>\n",
       "      <td>1690.0</td>\n",
       "      <td>...</td>\n",
       "      <td>Olive Gold,\\r\\nHard Candy Cancun Blue Flake, \\...</td>\n",
       "      <td>70000-100000</td>\n",
       "      <td>(2010, 2016]</td>\n",
       "      <td>&gt;10000</td>\n",
       "      <td>&gt;10000</td>\n",
       "      <td>None</td>\n",
       "      <td>1.0</td>\n",
       "      <td>1</td>\n",
       "      <td>&gt;1500</td>\n",
       "      <td>3.0</td>\n",
       "    </tr>\n",
       "    <tr>\n",
       "      <th>2717</th>\n",
       "      <td>54871</td>\n",
       "      <td>mv agusta</td>\n",
       "      <td>f3 675</td>\n",
       "      <td>2015</td>\n",
       "      <td>20000</td>\n",
       "      <td>9500</td>\n",
       "      <td>NaN</td>\n",
       "      <td>Sport</td>\n",
       "      <td>3.3</td>\n",
       "      <td>675.0</td>\n",
       "      <td>...</td>\n",
       "      <td>Red/silver, white, grey</td>\n",
       "      <td>10000-20000</td>\n",
       "      <td>(2010, 2016]</td>\n",
       "      <td>8000-10000</td>\n",
       "      <td>8000-10000</td>\n",
       "      <td>None</td>\n",
       "      <td>2.0</td>\n",
       "      <td>1</td>\n",
       "      <td>600-900</td>\n",
       "      <td>3.0</td>\n",
       "    </tr>\n",
       "    <tr>\n",
       "      <th>2718</th>\n",
       "      <td>55006</td>\n",
       "      <td>bmw</td>\n",
       "      <td>f 800 gs adventure</td>\n",
       "      <td>2018</td>\n",
       "      <td>30000</td>\n",
       "      <td>8790</td>\n",
       "      <td>NaN</td>\n",
       "      <td>Enduro / offroad</td>\n",
       "      <td>NaN</td>\n",
       "      <td>798.0</td>\n",
       "      <td>...</td>\n",
       "      <td>Racing Blue Metallic, Racing Red Matt</td>\n",
       "      <td>20000-30000</td>\n",
       "      <td>(2016, 2022]</td>\n",
       "      <td>8000-10000</td>\n",
       "      <td>8000-10000</td>\n",
       "      <td>None</td>\n",
       "      <td>1.0</td>\n",
       "      <td>1</td>\n",
       "      <td>600-900</td>\n",
       "      <td>3.0</td>\n",
       "    </tr>\n",
       "    <tr>\n",
       "      <th>2719</th>\n",
       "      <td>55118</td>\n",
       "      <td>moto guzzi</td>\n",
       "      <td>v85 tt travel</td>\n",
       "      <td>2021</td>\n",
       "      <td>10000</td>\n",
       "      <td>11490</td>\n",
       "      <td>NaN</td>\n",
       "      <td>Enduro / offroad</td>\n",
       "      <td>NaN</td>\n",
       "      <td>853.0</td>\n",
       "      <td>...</td>\n",
       "      <td>Nero Etna, Giallo Mojave, Rosso Uluru</td>\n",
       "      <td>0-10000</td>\n",
       "      <td>(2016, 2022]</td>\n",
       "      <td>&gt;10000</td>\n",
       "      <td>&gt;10000</td>\n",
       "      <td>None</td>\n",
       "      <td>1.0</td>\n",
       "      <td>1</td>\n",
       "      <td>600-900</td>\n",
       "      <td>3.0</td>\n",
       "    </tr>\n",
       "  </tbody>\n",
       "</table>\n",
       "<p>2719 rows × 41 columns</p>\n",
       "</div>\n",
       "      <button class=\"colab-df-convert\" onclick=\"convertToInteractive('df-5fcb424a-7fa1-4892-af53-1905da3fc8e1')\"\n",
       "              title=\"Convert this dataframe to an interactive table.\"\n",
       "              style=\"display:none;\">\n",
       "        \n",
       "  <svg xmlns=\"http://www.w3.org/2000/svg\" height=\"24px\"viewBox=\"0 0 24 24\"\n",
       "       width=\"24px\">\n",
       "    <path d=\"M0 0h24v24H0V0z\" fill=\"none\"/>\n",
       "    <path d=\"M18.56 5.44l.94 2.06.94-2.06 2.06-.94-2.06-.94-.94-2.06-.94 2.06-2.06.94zm-11 1L8.5 8.5l.94-2.06 2.06-.94-2.06-.94L8.5 2.5l-.94 2.06-2.06.94zm10 10l.94 2.06.94-2.06 2.06-.94-2.06-.94-.94-2.06-.94 2.06-2.06.94z\"/><path d=\"M17.41 7.96l-1.37-1.37c-.4-.4-.92-.59-1.43-.59-.52 0-1.04.2-1.43.59L10.3 9.45l-7.72 7.72c-.78.78-.78 2.05 0 2.83L4 21.41c.39.39.9.59 1.41.59.51 0 1.02-.2 1.41-.59l7.78-7.78 2.81-2.81c.8-.78.8-2.07 0-2.86zM5.41 20L4 18.59l7.72-7.72 1.47 1.35L5.41 20z\"/>\n",
       "  </svg>\n",
       "      </button>\n",
       "      \n",
       "  <style>\n",
       "    .colab-df-container {\n",
       "      display:flex;\n",
       "      flex-wrap:wrap;\n",
       "      gap: 12px;\n",
       "    }\n",
       "\n",
       "    .colab-df-convert {\n",
       "      background-color: #E8F0FE;\n",
       "      border: none;\n",
       "      border-radius: 50%;\n",
       "      cursor: pointer;\n",
       "      display: none;\n",
       "      fill: #1967D2;\n",
       "      height: 32px;\n",
       "      padding: 0 0 0 0;\n",
       "      width: 32px;\n",
       "    }\n",
       "\n",
       "    .colab-df-convert:hover {\n",
       "      background-color: #E2EBFA;\n",
       "      box-shadow: 0px 1px 2px rgba(60, 64, 67, 0.3), 0px 1px 3px 1px rgba(60, 64, 67, 0.15);\n",
       "      fill: #174EA6;\n",
       "    }\n",
       "\n",
       "    [theme=dark] .colab-df-convert {\n",
       "      background-color: #3B4455;\n",
       "      fill: #D2E3FC;\n",
       "    }\n",
       "\n",
       "    [theme=dark] .colab-df-convert:hover {\n",
       "      background-color: #434B5C;\n",
       "      box-shadow: 0px 1px 3px 1px rgba(0, 0, 0, 0.15);\n",
       "      filter: drop-shadow(0px 1px 2px rgba(0, 0, 0, 0.3));\n",
       "      fill: #FFFFFF;\n",
       "    }\n",
       "  </style>\n",
       "\n",
       "      <script>\n",
       "        const buttonEl =\n",
       "          document.querySelector('#df-5fcb424a-7fa1-4892-af53-1905da3fc8e1 button.colab-df-convert');\n",
       "        buttonEl.style.display =\n",
       "          google.colab.kernel.accessAllowed ? 'block' : 'none';\n",
       "\n",
       "        async function convertToInteractive(key) {\n",
       "          const element = document.querySelector('#df-5fcb424a-7fa1-4892-af53-1905da3fc8e1');\n",
       "          const dataTable =\n",
       "            await google.colab.kernel.invokeFunction('convertToInteractive',\n",
       "                                                     [key], {});\n",
       "          if (!dataTable) return;\n",
       "\n",
       "          const docLinkHtml = 'Like what you see? Visit the ' +\n",
       "            '<a target=\"_blank\" href=https://colab.research.google.com/notebooks/data_table.ipynb>data table notebook</a>'\n",
       "            + ' to learn more about interactive tables.';\n",
       "          element.innerHTML = '';\n",
       "          dataTable['output_type'] = 'display_data';\n",
       "          await google.colab.output.renderOutput(dataTable, element);\n",
       "          const docLink = document.createElement('div');\n",
       "          docLink.innerHTML = docLinkHtml;\n",
       "          element.appendChild(docLink);\n",
       "        }\n",
       "      </script>\n",
       "    </div>\n",
       "  </div>\n",
       "  "
      ],
      "text/plain": [
       "         id            Brand               Model  Year  Odometer  Sell_Price  \\\n",
       "0       204            honda           forza 125  2019     10200        3890   \n",
       "1     11219            honda           forza 125  2019     10000        3990   \n",
       "2     19244            honda           forza 125  2019     20000        3990   \n",
       "3     30080            honda           forza 125  2019     20000        3790   \n",
       "4     31925            honda           forza 125  2019     30000        3790   \n",
       "...     ...              ...                 ...   ...       ...         ...   \n",
       "2715  54700          triumph           tiger 800  2013     80000        5990   \n",
       "2716  54838  harley davidson     dyna street bob  2016     80000       11290   \n",
       "2717  54871        mv agusta              f3 675  2015     20000        9500   \n",
       "2718  55006              bmw  f 800 gs adventure  2018     30000        8790   \n",
       "2719  55118       moto guzzi       v85 tt travel  2021     10000       11490   \n",
       "\n",
       "      Purchase_Price          Category  Rating  Displacement (ccm)  ...  \\\n",
       "0                NaN           Scooter     NaN               124.9  ...   \n",
       "1                NaN           Scooter     NaN               124.9  ...   \n",
       "2                NaN           Scooter     NaN               124.9  ...   \n",
       "3                NaN           Scooter     NaN               124.9  ...   \n",
       "4                NaN           Scooter     NaN               124.9  ...   \n",
       "...              ...               ...     ...                 ...  ...   \n",
       "2715             NaN             Sport     3.6               800.0  ...   \n",
       "2716             NaN  Custom / cruiser     3.1              1690.0  ...   \n",
       "2717             NaN             Sport     3.3               675.0  ...   \n",
       "2718             NaN  Enduro / offroad     NaN               798.0  ...   \n",
       "2719             NaN  Enduro / offroad     NaN               853.0  ...   \n",
       "\n",
       "                                          Color options        km_cat  \\\n",
       "0     Gloss Black/Matt Cynos Grey Metallic, Matt Luc...   10000-20000   \n",
       "1     Gloss Black/Matt Cynos Grey Metallic, Matt Luc...       0-10000   \n",
       "2     Gloss Black/Matt Cynos Grey Metallic, Matt Luc...   10000-20000   \n",
       "3     Gloss Black/Matt Cynos Grey Metallic, Matt Luc...   10000-20000   \n",
       "4     Gloss Black/Matt Cynos Grey Metallic, Matt Luc...   20000-30000   \n",
       "...                                                 ...           ...   \n",
       "2715                                 Black, white, blue  70000-100000   \n",
       "2716  Olive Gold,\\r\\nHard Candy Cancun Blue Flake, \\...  70000-100000   \n",
       "2717                            Red/silver, white, grey   10000-20000   \n",
       "2718              Racing Blue Metallic, Racing Red Matt   20000-30000   \n",
       "2719              Nero Etna, Giallo Mojave, Rosso Uluru       0-10000   \n",
       "\n",
       "           yearcat   price_cat sell_price_cat  purch_price_cat  hpwcat fuel  \\\n",
       "0     (2016, 2022]   2000-4000      2000-4000             None     1.0    1   \n",
       "1     (2016, 2022]   2000-4000      2000-4000             None     1.0    1   \n",
       "2     (2016, 2022]   2000-4000      2000-4000             None     1.0    1   \n",
       "3     (2016, 2022]   2000-4000      2000-4000             None     1.0    1   \n",
       "4     (2016, 2022]   2000-4000      2000-4000             None     1.0    1   \n",
       "...            ...         ...            ...              ...     ...  ...   \n",
       "2715  (2010, 2016]   4000-6000      4000-6000             None     1.0    1   \n",
       "2716  (2010, 2016]      >10000         >10000             None     1.0    1   \n",
       "2717  (2010, 2016]  8000-10000     8000-10000             None     2.0    1   \n",
       "2718  (2016, 2022]  8000-10000     8000-10000             None     1.0    1   \n",
       "2719  (2016, 2022]      >10000         >10000             None     1.0    1   \n",
       "\n",
       "           cc licence  \n",
       "0       0-300     2.0  \n",
       "1       0-300     2.0  \n",
       "2       0-300     2.0  \n",
       "3       0-300     2.0  \n",
       "4       0-300     2.0  \n",
       "...       ...     ...  \n",
       "2715  600-900     3.0  \n",
       "2716    >1500     3.0  \n",
       "2717  600-900     3.0  \n",
       "2718  600-900     3.0  \n",
       "2719  600-900     3.0  \n",
       "\n",
       "[2719 rows x 41 columns]"
      ]
     },
     "execution_count": 125,
     "metadata": {},
     "output_type": "execute_result"
    }
   ],
   "source": [
    "df"
   ]
  },
  {
   "cell_type": "code",
   "execution_count": 31,
   "metadata": {
    "colab": {
     "base_uri": "https://localhost:8080/"
    },
    "executionInfo": {
     "elapsed": 263,
     "status": "ok",
     "timestamp": 1651377586720,
     "user": {
      "displayName": "Sebastian Paglia",
      "userId": "05356319514303203784"
     },
     "user_tz": -120
    },
    "id": "lEq8eXjbt8ZB",
    "outputId": "c0f90d9f-505c-4b65-d10c-bfc6c0fb5845"
   },
   "outputs": [
    {
     "data": {
      "text/plain": [
       "Index(['id', 'Brand', 'Model', 'Year', 'Odometer', 'Sell_Price',\n",
       "       'Purchase_Price', 'Category', 'Rating', 'Displacement (ccm)',\n",
       "       'Power (hp)', 'Torque (Nm)', 'Engine cylinder', 'Engine stroke',\n",
       "       'Gearbox', 'Bore (mm)', 'Stroke (mm)', 'Transmission type',\n",
       "       'Front brakes', 'Rear brakes', 'Front tire', 'Rear tire',\n",
       "       'Front suspension', 'Rear suspension', 'Dry weight (kg)',\n",
       "       'Wheelbase (mm)', 'Fuel capacity (lts)', 'Fuel system', 'Fuel control',\n",
       "       'Seat height (mm)', 'Cooling system', 'Color options', 'km_cat',\n",
       "       'yearcat', 'price_cat', 'sell_price_cat', 'purch_price_cat', 'hpwcat'],\n",
       "      dtype='object')"
      ]
     },
     "execution_count": 31,
     "metadata": {},
     "output_type": "execute_result"
    }
   ],
   "source": [
    "df.columns"
   ]
  },
  {
   "cell_type": "code",
   "execution_count": 33,
   "metadata": {
    "executionInfo": {
     "elapsed": 249,
     "status": "ok",
     "timestamp": 1651377766611,
     "user": {
      "displayName": "Sebastian Paglia",
      "userId": "05356319514303203784"
     },
     "user_tz": -120
    },
    "id": "UFoTdrPlxp9q"
   },
   "outputs": [],
   "source": [
    "def get_fuel(x):\n",
    "  if \"injection\" in str(x).lower():\n",
    "    return 1\n",
    "  else:\n",
    "    return 0"
   ]
  },
  {
   "cell_type": "code",
   "execution_count": 35,
   "metadata": {
    "executionInfo": {
     "elapsed": 252,
     "status": "ok",
     "timestamp": 1651377788718,
     "user": {
      "displayName": "Sebastian Paglia",
      "userId": "05356319514303203784"
     },
     "user_tz": -120
    },
    "id": "OyupmD1nx7ET"
   },
   "outputs": [],
   "source": [
    "df['fuel'] = df['Fuel system'].apply(lambda x: get_fuel(x))"
   ]
  },
  {
   "cell_type": "code",
   "execution_count": null,
   "metadata": {
    "id": "Wivkg3ea2pAA"
   },
   "outputs": [],
   "source": [
    "from sklearn.impute import SimpleImputer\n",
    "preprocessor = SimpleImputer(missing_values=np.nan, strategy='mean')"
   ]
  },
  {
   "cell_type": "code",
   "execution_count": 48,
   "metadata": {
    "executionInfo": {
     "elapsed": 251,
     "status": "ok",
     "timestamp": 1651378515535,
     "user": {
      "displayName": "Sebastian Paglia",
      "userId": "05356319514303203784"
     },
     "user_tz": -120
    },
    "id": "vgN6cKZy0Zt6"
   },
   "outputs": [],
   "source": [
    "X = np.array(df['Displacement (ccm)']).reshape(-1,1)\n",
    "preprocessor.fit(X)\n",
    "X_prep = preprocessor.transform(X)\n",
    "df['Displacement (ccm)'] = X_prep.reshape(1,-1)[0]\n",
    "df['Displacement (ccm)'].isna().sum()"
   ]
  },
  {
   "cell_type": "code",
   "execution_count": 131,
   "metadata": {
    "colab": {
     "base_uri": "https://localhost:8080/"
    },
    "executionInfo": {
     "elapsed": 242,
     "status": "ok",
     "timestamp": 1651382041033,
     "user": {
      "displayName": "Sebastian Paglia",
      "userId": "05356319514303203784"
     },
     "user_tz": -120
    },
    "id": "V_3uV99aCcSp",
    "outputId": "22320a8e-3f91-4f6b-e0c4-cd903e0abdfb"
   },
   "outputs": [
    {
     "data": {
      "text/plain": [
       "0"
      ]
     },
     "execution_count": 131,
     "metadata": {},
     "output_type": "execute_result"
    }
   ],
   "source": [
    "X = np.array(df['hpwcat']).reshape(-1,1)\n",
    "preprocessor.fit(X)\n",
    "X_prep = preprocessor.transform(X)\n",
    "df['hpwcat'] = X_prep.reshape(1,-1)[0]\n",
    "df['hpwcat'].isna().sum()"
   ]
  },
  {
   "cell_type": "code",
   "execution_count": 133,
   "metadata": {
    "colab": {
     "base_uri": "https://localhost:8080/"
    },
    "executionInfo": {
     "elapsed": 264,
     "status": "ok",
     "timestamp": 1651382097574,
     "user": {
      "displayName": "Sebastian Paglia",
      "userId": "05356319514303203784"
     },
     "user_tz": -120
    },
    "id": "G59Hfal1Cphv",
    "outputId": "eb6daa5e-e390-4c06-e598-1f95b38db48f"
   },
   "outputs": [
    {
     "data": {
      "text/plain": [
       "0"
      ]
     },
     "execution_count": 133,
     "metadata": {},
     "output_type": "execute_result"
    }
   ],
   "source": [
    "X = np.array(df['licence']).reshape(-1,1)\n",
    "preprocessor.fit(X)\n",
    "X_prep = preprocessor.transform(X)\n",
    "df['licence'] = X_prep.reshape(1,-1)[0]\n",
    "df['licence'].isna().sum()"
   ]
  },
  {
   "cell_type": "code",
   "execution_count": 134,
   "metadata": {
    "colab": {
     "base_uri": "https://localhost:8080/"
    },
    "executionInfo": {
     "elapsed": 2,
     "status": "ok",
     "timestamp": 1651382099792,
     "user": {
      "displayName": "Sebastian Paglia",
      "userId": "05356319514303203784"
     },
     "user_tz": -120
    },
    "id": "hUG4Uisw1-Lm",
    "outputId": "ca314aea-f990-4e6a-d713-d9788afe2240"
   },
   "outputs": [
    {
     "data": {
      "text/plain": [
       "id                        0\n",
       "Brand                     0\n",
       "Model                     0\n",
       "Year                      0\n",
       "Odometer                  0\n",
       "Sell_Price                0\n",
       "Purchase_Price         2396\n",
       "Category                  0\n",
       "Rating                  359\n",
       "Displacement (ccm)        0\n",
       "Power (hp)              363\n",
       "Torque (Nm)             424\n",
       "Engine cylinder           0\n",
       "Engine stroke             0\n",
       "Gearbox                 239\n",
       "Bore (mm)               175\n",
       "Stroke (mm)             175\n",
       "Transmission type       160\n",
       "Front brakes             30\n",
       "Rear brakes              35\n",
       "Front tire              134\n",
       "Rear tire               135\n",
       "Front suspension        195\n",
       "Rear suspension         206\n",
       "Dry weight (kg)         881\n",
       "Wheelbase (mm)          217\n",
       "Fuel capacity (lts)      83\n",
       "Fuel system             145\n",
       "Fuel control            514\n",
       "Seat height (mm)        129\n",
       "Cooling system          144\n",
       "Color options           473\n",
       "km_cat                    0\n",
       "yearcat                   0\n",
       "price_cat                 0\n",
       "sell_price_cat            0\n",
       "purch_price_cat        2396\n",
       "hpwcat                    0\n",
       "fuel                      0\n",
       "cc                        0\n",
       "licence                   0\n",
       "dtype: int64"
      ]
     },
     "execution_count": 134,
     "metadata": {},
     "output_type": "execute_result"
    }
   ],
   "source": [
    "df.isna().sum()"
   ]
  },
  {
   "cell_type": "code",
   "execution_count": 76,
   "metadata": {
    "colab": {
     "base_uri": "https://localhost:8080/"
    },
    "executionInfo": {
     "elapsed": 242,
     "status": "ok",
     "timestamp": 1651379584683,
     "user": {
      "displayName": "Sebastian Paglia",
      "userId": "05356319514303203784"
     },
     "user_tz": -120
    },
    "id": "MMwnkrT349Dz",
    "outputId": "136407d5-a820-461c-e313-717504516b40"
   },
   "outputs": [
    {
     "data": {
      "text/plain": [
       "[226, 350, 2580, 2593]"
      ]
     },
     "execution_count": 76,
     "metadata": {},
     "output_type": "execute_result"
    }
   ],
   "source": [
    "df['km_cat'][df['km_cat'].isnull()].index.tolist()"
   ]
  },
  {
   "cell_type": "code",
   "execution_count": 78,
   "metadata": {
    "colab": {
     "base_uri": "https://localhost:8080/"
    },
    "executionInfo": {
     "elapsed": 255,
     "status": "ok",
     "timestamp": 1651379758264,
     "user": {
      "displayName": "Sebastian Paglia",
      "userId": "05356319514303203784"
     },
     "user_tz": -120
    },
    "id": "3blfXKMb5r6B",
    "outputId": "dc2da200-c252-43f3-8b6f-a8699006cb07"
   },
   "outputs": [
    {
     "data": {
      "text/plain": [
       "32"
      ]
     },
     "execution_count": 78,
     "metadata": {},
     "output_type": "execute_result"
    }
   ],
   "source": [
    "index_n=df.columns.get_loc('km_cat')\n",
    "index_n"
   ]
  },
  {
   "cell_type": "code",
   "execution_count": 79,
   "metadata": {
    "executionInfo": {
     "elapsed": 256,
     "status": "ok",
     "timestamp": 1651379808207,
     "user": {
      "displayName": "Sebastian Paglia",
      "userId": "05356319514303203784"
     },
     "user_tz": -120
    },
    "id": "Xx9DdrZE3y8M"
   },
   "outputs": [],
   "source": [
    "df.iloc[[226,350,2580,2593],index_n]='20000-30000'"
   ]
  },
  {
   "cell_type": "code",
   "execution_count": 80,
   "metadata": {
    "colab": {
     "base_uri": "https://localhost:8080/"
    },
    "executionInfo": {
     "elapsed": 258,
     "status": "ok",
     "timestamp": 1651379834860,
     "user": {
      "displayName": "Sebastian Paglia",
      "userId": "05356319514303203784"
     },
     "user_tz": -120
    },
    "id": "2wi61CVD6EP4",
    "outputId": "b21aa89a-4d94-417a-8de8-c0651f283ccd"
   },
   "outputs": [
    {
     "data": {
      "text/plain": [
       "0"
      ]
     },
     "execution_count": 80,
     "metadata": {},
     "output_type": "execute_result"
    }
   ],
   "source": [
    "df['km_cat'].isna().sum()"
   ]
  },
  {
   "cell_type": "code",
   "execution_count": 104,
   "metadata": {
    "colab": {
     "base_uri": "https://localhost:8080/"
    },
    "executionInfo": {
     "elapsed": 257,
     "status": "ok",
     "timestamp": 1651380756688,
     "user": {
      "displayName": "Sebastian Paglia",
      "userId": "05356319514303203784"
     },
     "user_tz": -120
    },
    "id": "q8347v_36X0x",
    "outputId": "56004e70-872c-4531-804e-06e54774799e"
   },
   "outputs": [
    {
     "data": {
      "text/plain": [
       "[743]"
      ]
     },
     "execution_count": 104,
     "metadata": {},
     "output_type": "execute_result"
    }
   ],
   "source": [
    "df['yearcat'][df['yearcat'].isnull()].index.tolist()"
   ]
  },
  {
   "cell_type": "code",
   "execution_count": 82,
   "metadata": {
    "colab": {
     "base_uri": "https://localhost:8080/"
    },
    "executionInfo": {
     "elapsed": 258,
     "status": "ok",
     "timestamp": 1651379953477,
     "user": {
      "displayName": "Sebastian Paglia",
      "userId": "05356319514303203784"
     },
     "user_tz": -120
    },
    "id": "RHJqhJyD6ckz",
    "outputId": "24a50385-76e4-4196-dcdf-e33e73394e02"
   },
   "outputs": [
    {
     "data": {
      "text/plain": [
       "33"
      ]
     },
     "execution_count": 82,
     "metadata": {},
     "output_type": "execute_result"
    }
   ],
   "source": [
    "index_n=df.columns.get_loc('yearcat')\n",
    "index_n"
   ]
  },
  {
   "cell_type": "code",
   "execution_count": 95,
   "metadata": {
    "colab": {
     "base_uri": "https://localhost:8080/"
    },
    "executionInfo": {
     "elapsed": 255,
     "status": "ok",
     "timestamp": 1651380260518,
     "user": {
      "displayName": "Sebastian Paglia",
      "userId": "05356319514303203784"
     },
     "user_tz": -120
    },
    "id": "eEEUMUAj7q3L",
    "outputId": "1a415789-6370-4002-cc65-953cd6cde258"
   },
   "outputs": [
    {
     "data": {
      "text/plain": [
       "CategoricalIndex([(2016, 2022], (2004, 2010], (2010, 2016], (1998, 2004],\n",
       "                  (1992, 1998], (1986, 1992]],\n",
       "                 categories=[(1986, 1992], (1992, 1998], (1998, 2004], (2004, 2010], (2010, 2016], (2016, 2022]], ordered=True, dtype='category')"
      ]
     },
     "execution_count": 95,
     "metadata": {},
     "output_type": "execute_result"
    }
   ],
   "source": [
    "df.yearcat.value_counts().index"
   ]
  },
  {
   "cell_type": "code",
   "execution_count": 106,
   "metadata": {
    "executionInfo": {
     "elapsed": 262,
     "status": "ok",
     "timestamp": 1651380891039,
     "user": {
      "displayName": "Sebastian Paglia",
      "userId": "05356319514303203784"
     },
     "user_tz": -120
    },
    "id": "HIhVHOBN-FkX"
   },
   "outputs": [],
   "source": [
    "df=df.drop(743)"
   ]
  },
  {
   "cell_type": "code",
   "execution_count": 102,
   "metadata": {
    "colab": {
     "base_uri": "https://localhost:8080/",
     "height": 1000
    },
    "executionInfo": {
     "elapsed": 278,
     "status": "ok",
     "timestamp": 1651380724051,
     "user": {
      "displayName": "Sebastian Paglia",
      "userId": "05356319514303203784"
     },
     "user_tz": -120
    },
    "id": "fecW3_J16fYR",
    "outputId": "a8ef5899-7971-4627-b01d-36b0146089fb"
   },
   "outputs": [
    {
     "data": {
      "text/html": [
       "\n",
       "  <div id=\"df-b9f08ed3-2727-4e4d-8ef9-674f6fd04995\">\n",
       "    <div class=\"colab-df-container\">\n",
       "      <div>\n",
       "<style scoped>\n",
       "    .dataframe tbody tr th:only-of-type {\n",
       "        vertical-align: middle;\n",
       "    }\n",
       "\n",
       "    .dataframe tbody tr th {\n",
       "        vertical-align: top;\n",
       "    }\n",
       "\n",
       "    .dataframe thead th {\n",
       "        text-align: right;\n",
       "    }\n",
       "</style>\n",
       "<table border=\"1\" class=\"dataframe\">\n",
       "  <thead>\n",
       "    <tr style=\"text-align: right;\">\n",
       "      <th></th>\n",
       "      <th>id</th>\n",
       "      <th>Brand</th>\n",
       "      <th>Model</th>\n",
       "      <th>Year</th>\n",
       "      <th>Odometer</th>\n",
       "      <th>Sell_Price</th>\n",
       "      <th>Purchase_Price</th>\n",
       "      <th>Category</th>\n",
       "      <th>Rating</th>\n",
       "      <th>Displacement (ccm)</th>\n",
       "      <th>...</th>\n",
       "      <th>Seat height (mm)</th>\n",
       "      <th>Cooling system</th>\n",
       "      <th>Color options</th>\n",
       "      <th>km_cat</th>\n",
       "      <th>yearcat</th>\n",
       "      <th>price_cat</th>\n",
       "      <th>sell_price_cat</th>\n",
       "      <th>purch_price_cat</th>\n",
       "      <th>hpwcat</th>\n",
       "      <th>fuel</th>\n",
       "    </tr>\n",
       "  </thead>\n",
       "  <tbody>\n",
       "    <tr>\n",
       "      <th>0</th>\n",
       "      <td>204</td>\n",
       "      <td>honda</td>\n",
       "      <td>forza 125</td>\n",
       "      <td>2019</td>\n",
       "      <td>10200</td>\n",
       "      <td>3890</td>\n",
       "      <td>NaN</td>\n",
       "      <td>Scooter</td>\n",
       "      <td>NaN</td>\n",
       "      <td>124.9</td>\n",
       "      <td>...</td>\n",
       "      <td>780.0</td>\n",
       "      <td>Liquid</td>\n",
       "      <td>Gloss Black/Matt Cynos Grey Metallic, Matt Luc...</td>\n",
       "      <td>10000-20000</td>\n",
       "      <td>(2016, 2022]</td>\n",
       "      <td>2000-4000</td>\n",
       "      <td>2000-4000</td>\n",
       "      <td>None</td>\n",
       "      <td>(0, 50]</td>\n",
       "      <td>1</td>\n",
       "    </tr>\n",
       "    <tr>\n",
       "      <th>1</th>\n",
       "      <td>11219</td>\n",
       "      <td>honda</td>\n",
       "      <td>forza 125</td>\n",
       "      <td>2019</td>\n",
       "      <td>10000</td>\n",
       "      <td>3990</td>\n",
       "      <td>NaN</td>\n",
       "      <td>Scooter</td>\n",
       "      <td>NaN</td>\n",
       "      <td>124.9</td>\n",
       "      <td>...</td>\n",
       "      <td>780.0</td>\n",
       "      <td>Liquid</td>\n",
       "      <td>Gloss Black/Matt Cynos Grey Metallic, Matt Luc...</td>\n",
       "      <td>0-10000</td>\n",
       "      <td>(2016, 2022]</td>\n",
       "      <td>2000-4000</td>\n",
       "      <td>2000-4000</td>\n",
       "      <td>None</td>\n",
       "      <td>(0, 50]</td>\n",
       "      <td>1</td>\n",
       "    </tr>\n",
       "    <tr>\n",
       "      <th>2</th>\n",
       "      <td>19244</td>\n",
       "      <td>honda</td>\n",
       "      <td>forza 125</td>\n",
       "      <td>2019</td>\n",
       "      <td>20000</td>\n",
       "      <td>3990</td>\n",
       "      <td>NaN</td>\n",
       "      <td>Scooter</td>\n",
       "      <td>NaN</td>\n",
       "      <td>124.9</td>\n",
       "      <td>...</td>\n",
       "      <td>780.0</td>\n",
       "      <td>Liquid</td>\n",
       "      <td>Gloss Black/Matt Cynos Grey Metallic, Matt Luc...</td>\n",
       "      <td>10000-20000</td>\n",
       "      <td>(2016, 2022]</td>\n",
       "      <td>2000-4000</td>\n",
       "      <td>2000-4000</td>\n",
       "      <td>None</td>\n",
       "      <td>(0, 50]</td>\n",
       "      <td>1</td>\n",
       "    </tr>\n",
       "    <tr>\n",
       "      <th>3</th>\n",
       "      <td>30080</td>\n",
       "      <td>honda</td>\n",
       "      <td>forza 125</td>\n",
       "      <td>2019</td>\n",
       "      <td>20000</td>\n",
       "      <td>3790</td>\n",
       "      <td>NaN</td>\n",
       "      <td>Scooter</td>\n",
       "      <td>NaN</td>\n",
       "      <td>124.9</td>\n",
       "      <td>...</td>\n",
       "      <td>780.0</td>\n",
       "      <td>Liquid</td>\n",
       "      <td>Gloss Black/Matt Cynos Grey Metallic, Matt Luc...</td>\n",
       "      <td>10000-20000</td>\n",
       "      <td>(2016, 2022]</td>\n",
       "      <td>2000-4000</td>\n",
       "      <td>2000-4000</td>\n",
       "      <td>None</td>\n",
       "      <td>(0, 50]</td>\n",
       "      <td>1</td>\n",
       "    </tr>\n",
       "    <tr>\n",
       "      <th>4</th>\n",
       "      <td>31925</td>\n",
       "      <td>honda</td>\n",
       "      <td>forza 125</td>\n",
       "      <td>2019</td>\n",
       "      <td>30000</td>\n",
       "      <td>3790</td>\n",
       "      <td>NaN</td>\n",
       "      <td>Scooter</td>\n",
       "      <td>NaN</td>\n",
       "      <td>124.9</td>\n",
       "      <td>...</td>\n",
       "      <td>780.0</td>\n",
       "      <td>Liquid</td>\n",
       "      <td>Gloss Black/Matt Cynos Grey Metallic, Matt Luc...</td>\n",
       "      <td>20000-30000</td>\n",
       "      <td>(2016, 2022]</td>\n",
       "      <td>2000-4000</td>\n",
       "      <td>2000-4000</td>\n",
       "      <td>None</td>\n",
       "      <td>(0, 50]</td>\n",
       "      <td>1</td>\n",
       "    </tr>\n",
       "    <tr>\n",
       "      <th>...</th>\n",
       "      <td>...</td>\n",
       "      <td>...</td>\n",
       "      <td>...</td>\n",
       "      <td>...</td>\n",
       "      <td>...</td>\n",
       "      <td>...</td>\n",
       "      <td>...</td>\n",
       "      <td>...</td>\n",
       "      <td>...</td>\n",
       "      <td>...</td>\n",
       "      <td>...</td>\n",
       "      <td>...</td>\n",
       "      <td>...</td>\n",
       "      <td>...</td>\n",
       "      <td>...</td>\n",
       "      <td>...</td>\n",
       "      <td>...</td>\n",
       "      <td>...</td>\n",
       "      <td>...</td>\n",
       "      <td>...</td>\n",
       "      <td>...</td>\n",
       "    </tr>\n",
       "    <tr>\n",
       "      <th>2715</th>\n",
       "      <td>54700</td>\n",
       "      <td>triumph</td>\n",
       "      <td>tiger 800</td>\n",
       "      <td>2013</td>\n",
       "      <td>80000</td>\n",
       "      <td>5990</td>\n",
       "      <td>NaN</td>\n",
       "      <td>Sport</td>\n",
       "      <td>3.6</td>\n",
       "      <td>800.0</td>\n",
       "      <td>...</td>\n",
       "      <td>810.0</td>\n",
       "      <td>Liquid</td>\n",
       "      <td>Black, white, blue</td>\n",
       "      <td>70000-100000</td>\n",
       "      <td>(2010, 2016]</td>\n",
       "      <td>4000-6000</td>\n",
       "      <td>4000-6000</td>\n",
       "      <td>None</td>\n",
       "      <td>(50, 100]</td>\n",
       "      <td>1</td>\n",
       "    </tr>\n",
       "    <tr>\n",
       "      <th>2716</th>\n",
       "      <td>54838</td>\n",
       "      <td>harley davidson</td>\n",
       "      <td>dyna street bob</td>\n",
       "      <td>2016</td>\n",
       "      <td>80000</td>\n",
       "      <td>11290</td>\n",
       "      <td>NaN</td>\n",
       "      <td>Custom / cruiser</td>\n",
       "      <td>3.1</td>\n",
       "      <td>1690.0</td>\n",
       "      <td>...</td>\n",
       "      <td>680.0</td>\n",
       "      <td>Air</td>\n",
       "      <td>Olive Gold,\\r\\nHard Candy Cancun Blue Flake, \\...</td>\n",
       "      <td>70000-100000</td>\n",
       "      <td>(2010, 2016]</td>\n",
       "      <td>&gt;10000</td>\n",
       "      <td>&gt;10000</td>\n",
       "      <td>None</td>\n",
       "      <td>(50, 100]</td>\n",
       "      <td>1</td>\n",
       "    </tr>\n",
       "    <tr>\n",
       "      <th>2717</th>\n",
       "      <td>54871</td>\n",
       "      <td>mv agusta</td>\n",
       "      <td>f3 675</td>\n",
       "      <td>2015</td>\n",
       "      <td>20000</td>\n",
       "      <td>9500</td>\n",
       "      <td>NaN</td>\n",
       "      <td>Sport</td>\n",
       "      <td>3.3</td>\n",
       "      <td>675.0</td>\n",
       "      <td>...</td>\n",
       "      <td>812.0</td>\n",
       "      <td>Liquid</td>\n",
       "      <td>Red/silver, white, grey</td>\n",
       "      <td>10000-20000</td>\n",
       "      <td>(2010, 2016]</td>\n",
       "      <td>8000-10000</td>\n",
       "      <td>8000-10000</td>\n",
       "      <td>None</td>\n",
       "      <td>(100, 150]</td>\n",
       "      <td>1</td>\n",
       "    </tr>\n",
       "    <tr>\n",
       "      <th>2718</th>\n",
       "      <td>55006</td>\n",
       "      <td>bmw</td>\n",
       "      <td>f 800 gs adventure</td>\n",
       "      <td>2018</td>\n",
       "      <td>30000</td>\n",
       "      <td>8790</td>\n",
       "      <td>NaN</td>\n",
       "      <td>Enduro / offroad</td>\n",
       "      <td>NaN</td>\n",
       "      <td>798.0</td>\n",
       "      <td>...</td>\n",
       "      <td>890.0</td>\n",
       "      <td>Liquid</td>\n",
       "      <td>Racing Blue Metallic, Racing Red Matt</td>\n",
       "      <td>20000-30000</td>\n",
       "      <td>(2016, 2022]</td>\n",
       "      <td>8000-10000</td>\n",
       "      <td>8000-10000</td>\n",
       "      <td>None</td>\n",
       "      <td>(50, 100]</td>\n",
       "      <td>1</td>\n",
       "    </tr>\n",
       "    <tr>\n",
       "      <th>2719</th>\n",
       "      <td>55118</td>\n",
       "      <td>moto guzzi</td>\n",
       "      <td>v85 tt travel</td>\n",
       "      <td>2021</td>\n",
       "      <td>10000</td>\n",
       "      <td>11490</td>\n",
       "      <td>NaN</td>\n",
       "      <td>Enduro / offroad</td>\n",
       "      <td>NaN</td>\n",
       "      <td>853.0</td>\n",
       "      <td>...</td>\n",
       "      <td>803.0</td>\n",
       "      <td>Air</td>\n",
       "      <td>Nero Etna, Giallo Mojave, Rosso Uluru</td>\n",
       "      <td>0-10000</td>\n",
       "      <td>(2016, 2022]</td>\n",
       "      <td>&gt;10000</td>\n",
       "      <td>&gt;10000</td>\n",
       "      <td>None</td>\n",
       "      <td>(50, 100]</td>\n",
       "      <td>1</td>\n",
       "    </tr>\n",
       "  </tbody>\n",
       "</table>\n",
       "<p>2719 rows × 39 columns</p>\n",
       "</div>\n",
       "      <button class=\"colab-df-convert\" onclick=\"convertToInteractive('df-b9f08ed3-2727-4e4d-8ef9-674f6fd04995')\"\n",
       "              title=\"Convert this dataframe to an interactive table.\"\n",
       "              style=\"display:none;\">\n",
       "        \n",
       "  <svg xmlns=\"http://www.w3.org/2000/svg\" height=\"24px\"viewBox=\"0 0 24 24\"\n",
       "       width=\"24px\">\n",
       "    <path d=\"M0 0h24v24H0V0z\" fill=\"none\"/>\n",
       "    <path d=\"M18.56 5.44l.94 2.06.94-2.06 2.06-.94-2.06-.94-.94-2.06-.94 2.06-2.06.94zm-11 1L8.5 8.5l.94-2.06 2.06-.94-2.06-.94L8.5 2.5l-.94 2.06-2.06.94zm10 10l.94 2.06.94-2.06 2.06-.94-2.06-.94-.94-2.06-.94 2.06-2.06.94z\"/><path d=\"M17.41 7.96l-1.37-1.37c-.4-.4-.92-.59-1.43-.59-.52 0-1.04.2-1.43.59L10.3 9.45l-7.72 7.72c-.78.78-.78 2.05 0 2.83L4 21.41c.39.39.9.59 1.41.59.51 0 1.02-.2 1.41-.59l7.78-7.78 2.81-2.81c.8-.78.8-2.07 0-2.86zM5.41 20L4 18.59l7.72-7.72 1.47 1.35L5.41 20z\"/>\n",
       "  </svg>\n",
       "      </button>\n",
       "      \n",
       "  <style>\n",
       "    .colab-df-container {\n",
       "      display:flex;\n",
       "      flex-wrap:wrap;\n",
       "      gap: 12px;\n",
       "    }\n",
       "\n",
       "    .colab-df-convert {\n",
       "      background-color: #E8F0FE;\n",
       "      border: none;\n",
       "      border-radius: 50%;\n",
       "      cursor: pointer;\n",
       "      display: none;\n",
       "      fill: #1967D2;\n",
       "      height: 32px;\n",
       "      padding: 0 0 0 0;\n",
       "      width: 32px;\n",
       "    }\n",
       "\n",
       "    .colab-df-convert:hover {\n",
       "      background-color: #E2EBFA;\n",
       "      box-shadow: 0px 1px 2px rgba(60, 64, 67, 0.3), 0px 1px 3px 1px rgba(60, 64, 67, 0.15);\n",
       "      fill: #174EA6;\n",
       "    }\n",
       "\n",
       "    [theme=dark] .colab-df-convert {\n",
       "      background-color: #3B4455;\n",
       "      fill: #D2E3FC;\n",
       "    }\n",
       "\n",
       "    [theme=dark] .colab-df-convert:hover {\n",
       "      background-color: #434B5C;\n",
       "      box-shadow: 0px 1px 3px 1px rgba(0, 0, 0, 0.15);\n",
       "      filter: drop-shadow(0px 1px 2px rgba(0, 0, 0, 0.3));\n",
       "      fill: #FFFFFF;\n",
       "    }\n",
       "  </style>\n",
       "\n",
       "      <script>\n",
       "        const buttonEl =\n",
       "          document.querySelector('#df-b9f08ed3-2727-4e4d-8ef9-674f6fd04995 button.colab-df-convert');\n",
       "        buttonEl.style.display =\n",
       "          google.colab.kernel.accessAllowed ? 'block' : 'none';\n",
       "\n",
       "        async function convertToInteractive(key) {\n",
       "          const element = document.querySelector('#df-b9f08ed3-2727-4e4d-8ef9-674f6fd04995');\n",
       "          const dataTable =\n",
       "            await google.colab.kernel.invokeFunction('convertToInteractive',\n",
       "                                                     [key], {});\n",
       "          if (!dataTable) return;\n",
       "\n",
       "          const docLinkHtml = 'Like what you see? Visit the ' +\n",
       "            '<a target=\"_blank\" href=https://colab.research.google.com/notebooks/data_table.ipynb>data table notebook</a>'\n",
       "            + ' to learn more about interactive tables.';\n",
       "          element.innerHTML = '';\n",
       "          dataTable['output_type'] = 'display_data';\n",
       "          await google.colab.output.renderOutput(dataTable, element);\n",
       "          const docLink = document.createElement('div');\n",
       "          docLink.innerHTML = docLinkHtml;\n",
       "          element.appendChild(docLink);\n",
       "        }\n",
       "      </script>\n",
       "    </div>\n",
       "  </div>\n",
       "  "
      ],
      "text/plain": [
       "         id            Brand               Model  Year  Odometer  Sell_Price  \\\n",
       "0       204            honda           forza 125  2019     10200        3890   \n",
       "1     11219            honda           forza 125  2019     10000        3990   \n",
       "2     19244            honda           forza 125  2019     20000        3990   \n",
       "3     30080            honda           forza 125  2019     20000        3790   \n",
       "4     31925            honda           forza 125  2019     30000        3790   \n",
       "...     ...              ...                 ...   ...       ...         ...   \n",
       "2715  54700          triumph           tiger 800  2013     80000        5990   \n",
       "2716  54838  harley davidson     dyna street bob  2016     80000       11290   \n",
       "2717  54871        mv agusta              f3 675  2015     20000        9500   \n",
       "2718  55006              bmw  f 800 gs adventure  2018     30000        8790   \n",
       "2719  55118       moto guzzi       v85 tt travel  2021     10000       11490   \n",
       "\n",
       "      Purchase_Price          Category  Rating  Displacement (ccm)  ...  \\\n",
       "0                NaN           Scooter     NaN               124.9  ...   \n",
       "1                NaN           Scooter     NaN               124.9  ...   \n",
       "2                NaN           Scooter     NaN               124.9  ...   \n",
       "3                NaN           Scooter     NaN               124.9  ...   \n",
       "4                NaN           Scooter     NaN               124.9  ...   \n",
       "...              ...               ...     ...                 ...  ...   \n",
       "2715             NaN             Sport     3.6               800.0  ...   \n",
       "2716             NaN  Custom / cruiser     3.1              1690.0  ...   \n",
       "2717             NaN             Sport     3.3               675.0  ...   \n",
       "2718             NaN  Enduro / offroad     NaN               798.0  ...   \n",
       "2719             NaN  Enduro / offroad     NaN               853.0  ...   \n",
       "\n",
       "      Seat height (mm)  Cooling system  \\\n",
       "0                780.0          Liquid   \n",
       "1                780.0          Liquid   \n",
       "2                780.0          Liquid   \n",
       "3                780.0          Liquid   \n",
       "4                780.0          Liquid   \n",
       "...                ...             ...   \n",
       "2715             810.0          Liquid   \n",
       "2716             680.0             Air   \n",
       "2717             812.0          Liquid   \n",
       "2718             890.0          Liquid   \n",
       "2719             803.0             Air   \n",
       "\n",
       "                                          Color options        km_cat  \\\n",
       "0     Gloss Black/Matt Cynos Grey Metallic, Matt Luc...   10000-20000   \n",
       "1     Gloss Black/Matt Cynos Grey Metallic, Matt Luc...       0-10000   \n",
       "2     Gloss Black/Matt Cynos Grey Metallic, Matt Luc...   10000-20000   \n",
       "3     Gloss Black/Matt Cynos Grey Metallic, Matt Luc...   10000-20000   \n",
       "4     Gloss Black/Matt Cynos Grey Metallic, Matt Luc...   20000-30000   \n",
       "...                                                 ...           ...   \n",
       "2715                                 Black, white, blue  70000-100000   \n",
       "2716  Olive Gold,\\r\\nHard Candy Cancun Blue Flake, \\...  70000-100000   \n",
       "2717                            Red/silver, white, grey   10000-20000   \n",
       "2718              Racing Blue Metallic, Racing Red Matt   20000-30000   \n",
       "2719              Nero Etna, Giallo Mojave, Rosso Uluru       0-10000   \n",
       "\n",
       "           yearcat   price_cat  sell_price_cat purch_price_cat      hpwcat  \\\n",
       "0     (2016, 2022]   2000-4000       2000-4000            None     (0, 50]   \n",
       "1     (2016, 2022]   2000-4000       2000-4000            None     (0, 50]   \n",
       "2     (2016, 2022]   2000-4000       2000-4000            None     (0, 50]   \n",
       "3     (2016, 2022]   2000-4000       2000-4000            None     (0, 50]   \n",
       "4     (2016, 2022]   2000-4000       2000-4000            None     (0, 50]   \n",
       "...            ...         ...             ...             ...         ...   \n",
       "2715  (2010, 2016]   4000-6000       4000-6000            None   (50, 100]   \n",
       "2716  (2010, 2016]      >10000          >10000            None   (50, 100]   \n",
       "2717  (2010, 2016]  8000-10000      8000-10000            None  (100, 150]   \n",
       "2718  (2016, 2022]  8000-10000      8000-10000            None   (50, 100]   \n",
       "2719  (2016, 2022]      >10000          >10000            None   (50, 100]   \n",
       "\n",
       "     fuel  \n",
       "0       1  \n",
       "1       1  \n",
       "2       1  \n",
       "3       1  \n",
       "4       1  \n",
       "...   ...  \n",
       "2715    1  \n",
       "2716    1  \n",
       "2717    1  \n",
       "2718    1  \n",
       "2719    1  \n",
       "\n",
       "[2719 rows x 39 columns]"
      ]
     },
     "execution_count": 102,
     "metadata": {},
     "output_type": "execute_result"
    }
   ],
   "source": [
    "df.drop(labels=743, axis=0)"
   ]
  },
  {
   "cell_type": "code",
   "execution_count": null,
   "metadata": {
    "id": "8WD0mced7EaJ"
   },
   "outputs": [],
   "source": [
    "df.info()"
   ]
  },
  {
   "cell_type": "code",
   "execution_count": 83,
   "metadata": {
    "colab": {
     "base_uri": "https://localhost:8080/"
    },
    "executionInfo": {
     "elapsed": 258,
     "status": "ok",
     "timestamp": 1651380025914,
     "user": {
      "displayName": "Sebastian Paglia",
      "userId": "05356319514303203784"
     },
     "user_tz": -120
    },
    "id": "R30sySJn6zzX",
    "outputId": "ca052f8c-864c-4af1-8e95-a2c4500993ce"
   },
   "outputs": [
    {
     "data": {
      "text/plain": [
       "[(2016.0, 2022.0], (2010.0, 2016.0], (2004.0, 2010.0], (1998.0, 2004.0], (1992.0, 1998.0], (1986.0, 1992.0], NaN]\n",
       "Categories (6, interval[int64, right]): [(1986, 1992] < (1992, 1998] < (1998, 2004] < (2004, 2010] <\n",
       "                                         (2010, 2016] < (2016, 2022]]"
      ]
     },
     "execution_count": 83,
     "metadata": {},
     "output_type": "execute_result"
    }
   ],
   "source": [
    "df['yearcat'].unique()"
   ]
  },
  {
   "cell_type": "code",
   "execution_count": 107,
   "metadata": {
    "colab": {
     "base_uri": "https://localhost:8080/"
    },
    "executionInfo": {
     "elapsed": 249,
     "status": "ok",
     "timestamp": 1651380898678,
     "user": {
      "displayName": "Sebastian Paglia",
      "userId": "05356319514303203784"
     },
     "user_tz": -120
    },
    "id": "YI5pfhxb6hXY",
    "outputId": "3b66e88a-707a-419d-936f-d2856a1a9b2e"
   },
   "outputs": [
    {
     "data": {
      "text/plain": [
       "0"
      ]
     },
     "execution_count": 107,
     "metadata": {},
     "output_type": "execute_result"
    }
   ],
   "source": [
    "df['yearcat'].isna().sum()"
   ]
  },
  {
   "cell_type": "code",
   "execution_count": 111,
   "metadata": {
    "colab": {
     "base_uri": "https://localhost:8080/"
    },
    "executionInfo": {
     "elapsed": 285,
     "status": "ok",
     "timestamp": 1651381097956,
     "user": {
      "displayName": "Sebastian Paglia",
      "userId": "05356319514303203784"
     },
     "user_tz": -120
    },
    "id": "eB0Vksdo-vfd",
    "outputId": "015cb925-9b2d-407b-f378-84ff79563149"
   },
   "outputs": [
    {
     "data": {
      "text/plain": [
       "2294.0"
      ]
     },
     "execution_count": 111,
     "metadata": {},
     "output_type": "execute_result"
    }
   ],
   "source": [
    "df['Displacement (ccm)'].min()\n",
    "df['Displacement (ccm)'].max()"
   ]
  },
  {
   "cell_type": "code",
   "execution_count": 112,
   "metadata": {
    "executionInfo": {
     "elapsed": 3,
     "status": "ok",
     "timestamp": 1651381313385,
     "user": {
      "displayName": "Sebastian Paglia",
      "userId": "05356319514303203784"
     },
     "user_tz": -120
    },
    "id": "ApPs3ke7-itw"
   },
   "outputs": [],
   "source": [
    "def get_cc(x):\n",
    "  if x >= 0 and x < 300:\n",
    "    return '0-300'\n",
    "  if x >= 300 and x < 600:\n",
    "    return '300-600'\n",
    "  if x >= 600 and x < 900:\n",
    "    return '600-900'\n",
    "  if x >= 900 and x < 1200:\n",
    "    return '900-300'\n",
    "  if x >= 1200 and x < 1500:\n",
    "    return '1200-1500'\n",
    "  if x >= 1500:\n",
    "    return '>1500'\n",
    "  "
   ]
  },
  {
   "cell_type": "code",
   "execution_count": 113,
   "metadata": {
    "executionInfo": {
     "elapsed": 247,
     "status": "ok",
     "timestamp": 1651381373373,
     "user": {
      "displayName": "Sebastian Paglia",
      "userId": "05356319514303203784"
     },
     "user_tz": -120
    },
    "id": "FyBS7A0z_1Kq"
   },
   "outputs": [],
   "source": [
    "df['cc'] = df['Displacement (ccm)'].apply(lambda x: get_cc(x))"
   ]
  },
  {
   "cell_type": "code",
   "execution_count": 119,
   "metadata": {
    "colab": {
     "base_uri": "https://localhost:8080/"
    },
    "executionInfo": {
     "elapsed": 245,
     "status": "ok",
     "timestamp": 1651381591725,
     "user": {
      "displayName": "Sebastian Paglia",
      "userId": "05356319514303203784"
     },
     "user_tz": -120
    },
    "id": "lhiFxdS3AjTI",
    "outputId": "19fd26c6-cf44-444f-d462-46eb9cba3414"
   },
   "outputs": [
    {
     "data": {
      "text/plain": [
       "array([ 14.8, 125. ,  60.4,  59. ,  11.3,  14.2,  27.6,  83.8,  98. ,\n",
       "        52.7,  11. ,  68. ,  13.9,  72. ,   nan,   9.3,  12.2,  87. ,\n",
       "       160. ,  14.1,  20.9,  81. ,  69.7,  40. ,  99.2,  67. , 170. ,\n",
       "        12.1,  78.9,  46.4,  85. ,  60. , 190. ,   9.4, 150. , 195. ,\n",
       "        45. , 141. ,  85.8, 110. ,  11.5, 105. ,  76.4,  96.6,  15. ,\n",
       "       158. ,  90. ,  70. , 100. ,  19.8, 123. ,  92. ,  64.1,  95. ,\n",
       "       109. , 111. , 114. ,  75. ,  24.8, 103. ,  10.5,  37. , 162. ,\n",
       "        24.1,  50. , 116. ,  47.6,  69. ,  44. ,  89. , 164. , 165. ,\n",
       "        94. ,  20.1, 115. , 136. , 134. ,  43. ,  31.1,  14.4,  11.4,\n",
       "        32.9,  34. , 120. ,  49.6,  73.8,  28.4,  93. ,  21.1,  52.3,\n",
       "        77. , 117. ,  48. , 142. ,  11.1,  11.2, 108. , 102. , 107. ,\n",
       "        75.1,  10.3, 130. , 106. , 104. ,  33.5,  12. ,  72.4,  84.5,\n",
       "        25. ,  44.3,  32. , 199. ,  10.7,  57.8,  76. , 169. , 112. ,\n",
       "       155. ,  23.8,  20.8, 208. , 193. ,  74.5,  91. , 128. ,   8.3,\n",
       "         4.2,  13.8,  10.2, 163. ,   8.5,  66. ,  25.8,  56.3,  93.6,\n",
       "        13.4,  13. ,   9.5,  22. ,  15.9,  10.1,  73. ,  14.3,  31. ,\n",
       "        39. ,  47. , 214. ,  12.6, 138. ,  24.5,  65. ,  56. ,  46.9,\n",
       "         8.9,  96. ,  12.4,  95.2,  55. ,  71. ,  29.5,  77.5,  86. ,\n",
       "         8.7, 173. ,  62. ,  10. ,  97. , 135. ,  65.7,  14. ,  57. ,\n",
       "       132. ,  93.9,  38. ,  61. ,  21. , 200. ,  83.4,  14.5, 148. ,\n",
       "        22.1,   9.6,  10.6,   9.9,  78. ,   9.8,  65.5,  15.6,  52. ,\n",
       "       118. , 101. ,  58. ,  33. ,  12.5, 113. ,  25.5,  37.1, 126. ,\n",
       "        22.8,  80. ,  21.5,   3. ,  53. ,  96.4, 131. ,  21.2, 175. ,\n",
       "        47.3,  16. , 127. , 140. ,  42.9,  13.3, 145. , 205. ,   8.6,\n",
       "        63. ])"
      ]
     },
     "execution_count": 119,
     "metadata": {},
     "output_type": "execute_result"
    }
   ],
   "source": [
    "df['Power (hp)'].unique()"
   ]
  },
  {
   "cell_type": "code",
   "execution_count": 120,
   "metadata": {
    "executionInfo": {
     "elapsed": 244,
     "status": "ok",
     "timestamp": 1651381745843,
     "user": {
      "displayName": "Sebastian Paglia",
      "userId": "05356319514303203784"
     },
     "user_tz": -120
    },
    "id": "yoNBWP4DA4Du"
   },
   "outputs": [],
   "source": [
    "def get_licence(x):\n",
    "  if x > 0 and x <= 11:\n",
    "    return 1\n",
    "  if x > 11 and x <= 47:\n",
    "    return 2\n",
    "  if x > 47:\n",
    "    return 3"
   ]
  },
  {
   "cell_type": "code",
   "execution_count": 121,
   "metadata": {
    "executionInfo": {
     "elapsed": 247,
     "status": "ok",
     "timestamp": 1651381756777,
     "user": {
      "displayName": "Sebastian Paglia",
      "userId": "05356319514303203784"
     },
     "user_tz": -120
    },
    "id": "L_v0JZwuAI7U"
   },
   "outputs": [],
   "source": [
    "df['licence'] = df['Power (hp)'].apply(lambda x: get_licence(x))"
   ]
  },
  {
   "cell_type": "code",
   "execution_count": 122,
   "metadata": {
    "colab": {
     "base_uri": "https://localhost:8080/"
    },
    "executionInfo": {
     "elapsed": 7,
     "status": "ok",
     "timestamp": 1651381785767,
     "user": {
      "displayName": "Sebastian Paglia",
      "userId": "05356319514303203784"
     },
     "user_tz": -120
    },
    "id": "SK-xr6AZBiHv",
    "outputId": "4a32a41f-c740-4e9e-f0cc-0ecd45680921"
   },
   "outputs": [
    {
     "data": {
      "text/plain": [
       "id                        0\n",
       "Brand                     0\n",
       "Model                     0\n",
       "Year                      0\n",
       "Odometer                  0\n",
       "Sell_Price                0\n",
       "Purchase_Price         2396\n",
       "Category                  0\n",
       "Rating                  359\n",
       "Displacement (ccm)        0\n",
       "Power (hp)              363\n",
       "Torque (Nm)             424\n",
       "Engine cylinder           0\n",
       "Engine stroke             0\n",
       "Gearbox                 239\n",
       "Bore (mm)               175\n",
       "Stroke (mm)             175\n",
       "Transmission type       160\n",
       "Front brakes             30\n",
       "Rear brakes              35\n",
       "Front tire              134\n",
       "Rear tire               135\n",
       "Front suspension        195\n",
       "Rear suspension         206\n",
       "Dry weight (kg)         881\n",
       "Wheelbase (mm)          217\n",
       "Fuel capacity (lts)      83\n",
       "Fuel system             145\n",
       "Fuel control            514\n",
       "Seat height (mm)        129\n",
       "Cooling system          144\n",
       "Color options           473\n",
       "km_cat                    0\n",
       "yearcat                   0\n",
       "price_cat                 0\n",
       "sell_price_cat            0\n",
       "purch_price_cat        2396\n",
       "hpwcat                  368\n",
       "fuel                      0\n",
       "cc                        0\n",
       "licence                 363\n",
       "dtype: int64"
      ]
     },
     "execution_count": 122,
     "metadata": {},
     "output_type": "execute_result"
    }
   ],
   "source": [
    "df.isna().sum()"
   ]
  },
  {
   "cell_type": "code",
   "execution_count": 139,
   "metadata": {
    "executionInfo": {
     "elapsed": 265,
     "status": "ok",
     "timestamp": 1651382663311,
     "user": {
      "displayName": "Sebastian Paglia",
      "userId": "05356319514303203784"
     },
     "user_tz": -120
    },
    "id": "A5rhHN8KxO1B"
   },
   "outputs": [],
   "source": [
    "# Get dummies ['brand_id', 'fuel', 'type', 'cc']\n",
    "fuel_dummies =pd.get_dummies(df['fuel'], prefix='fuel')\n",
    "type_dummies = pd.get_dummies(df['Category'], prefix='type')\n",
    "cc_dummies = pd.get_dummies(df['cc'], prefix='cc')\n",
    "hpw_dummies = pd.get_dummies(df['hpwcat'], prefix='hpw')\n",
    "km_dummies = pd.get_dummies(df['km_cat'], prefix='km')\n",
    "price_dummies = pd.get_dummies(df['sell_price_cat'], prefix='price')\n",
    "licence_dummies = pd.get_dummies(df['licence'], prefix='licence')"
   ]
  },
  {
   "cell_type": "code",
   "execution_count": 140,
   "metadata": {
    "executionInfo": {
     "elapsed": 240,
     "status": "ok",
     "timestamp": 1651382691115,
     "user": {
      "displayName": "Sebastian Paglia",
      "userId": "05356319514303203784"
     },
     "user_tz": -120
    },
    "id": "EzFGxoD8E8UB"
   },
   "outputs": [],
   "source": [
    "df = pd.concat([df, fuel_dummies, type_dummies, cc_dummies,\n",
    "                hpw_dummies, km_dummies, price_dummies, licence_dummies], axis='columns')"
   ]
  },
  {
   "cell_type": "code",
   "execution_count": 143,
   "metadata": {
    "executionInfo": {
     "elapsed": 252,
     "status": "ok",
     "timestamp": 1651382790967,
     "user": {
      "displayName": "Sebastian Paglia",
      "userId": "05356319514303203784"
     },
     "user_tz": -120
    },
    "id": "2xhyziLBFExt"
   },
   "outputs": [],
   "source": [
    "# Scale\n",
    "std_scaler = preprocessing.StandardScaler()\n",
    "df[['price_std','km_std']]= preprocessing.scale(df[['Sell_Price', 'Odometer']])"
   ]
  },
  {
   "cell_type": "code",
   "execution_count": 45,
   "metadata": {
    "colab": {
     "base_uri": "https://localhost:8080/"
    },
    "executionInfo": {
     "elapsed": 248,
     "status": "ok",
     "timestamp": 1651378075458,
     "user": {
      "displayName": "Sebastian Paglia",
      "userId": "05356319514303203784"
     },
     "user_tz": -120
    },
    "id": "SqwuuBEHxVRZ",
    "outputId": "58c3ebbe-c822-4d23-f38a-d4fd3289f63e"
   },
   "outputs": [
    {
     "data": {
      "text/plain": [
       "array([ 124.9, 1170. ,  649. ,  647. ,  124.5,  124.7,  292. ,  798. ,\n",
       "        599. ,  550.4,  599.4,  645. ,  199.4,  124.6,  125. ,  999. ,\n",
       "        249.8,  803. ,  400. ,  595. , 1201.3, 1293. ,  123.4,  696. ,\n",
       "       1649. ,  618. , 1130. ,  996. , 1157. , 1298. ,  487. ,  675. ,\n",
       "        124. ,  599.9,  848. ,  200. ,  249. , 1037. ,  749.9, 1063. ,\n",
       "        279. ,  740. ,  821. ,  124.1,  644. ,  248. , 1043. ,  499.6,\n",
       "        373.2, 1745. ,  652. ,  799. ,  124.8,  847. , 1254. ,  853. ,\n",
       "        373. ,  895. ,  395. ,  987. ,  350. ,  689. ,  329.6,  896. ,\n",
       "        278. ,  805. , 2294. ,  937. ,  656. ,  600. ,  124.2,  749. ,\n",
       "       1198.4,  839.3, 1171. ,  449. ,   49.9,  748. ,  695. ,  313. ,\n",
       "       1064. ,  249.2,  498. ,  300. ,  998. ,  500. ,  745. ,  399. ,\n",
       "        955. , 1050. ,  373.5, 1103. ,  535. , 1802. ,  903. ,  108. ,\n",
       "         49. , 1688. ,   49.4,  865. ,  499. , 1078. , 1085. ,  659. ,\n",
       "        293.2,  149.6,  153. , 1352. ,  296. ,  199. ,  648. ,  471. ,\n",
       "        670. ,  997.6,  900. , 1783. ,  123.5, 1200. ,   50. ,  249.3,\n",
       "        850. , 1690. ,  744. , 1597. ,  896.1,  109.5, 1552. ,  692.7,\n",
       "       1832. ,  939. , 1079. ,  753.9,  398. ,  638. ,  747. ,  244. ,\n",
       "        660. , 1868. ,  196. , 1795. ,  916. , 1172. ,    nan, 1312. ,\n",
       "        565.5,  449.9,  883. ,  250. , 1251. ,  888. ,  953. ,  299.3,\n",
       "        449.3,  375. ,   49.5, 1441. , 1573.3, 1600. ,  800. ])"
      ]
     },
     "execution_count": 45,
     "metadata": {},
     "output_type": "execute_result"
    }
   ],
   "source": [
    "df['Displacement (ccm)'].unique()"
   ]
  },
  {
   "cell_type": "code",
   "execution_count": 145,
   "metadata": {
    "executionInfo": {
     "elapsed": 309,
     "status": "ok",
     "timestamp": 1651382836075,
     "user": {
      "displayName": "Sebastian Paglia",
      "userId": "05356319514303203784"
     },
     "user_tz": -120
    },
    "id": "t7IICci6C4TR"
   },
   "outputs": [],
   "source": [
    "df.to_csv(\"exploitation/motos_after_preprocessing_real_data.csv\", sep=';')"
   ]
  }
 ],
 "metadata": {
  "colab": {
   "authorship_tag": "ABX9TyMHcfHqpwL97nxsBg/yEej2",
   "collapsed_sections": [],
   "mount_file_id": "1A1YYBCfpGm1PrWOD6_rbYYGp3SxbjITt",
   "name": "Preprocessing.ipynb",
   "provenance": []
  },
  "kernelspec": {
   "display_name": "Python 3 (ipykernel)",
   "language": "python",
   "name": "python3"
  },
  "language_info": {
   "codemirror_mode": {
    "name": "ipython",
    "version": 3
   },
   "file_extension": ".py",
   "mimetype": "text/x-python",
   "name": "python",
   "nbconvert_exporter": "python",
   "pygments_lexer": "ipython3",
   "version": "3.10.4"
  }
 },
 "nbformat": 4,
 "nbformat_minor": 4
}
