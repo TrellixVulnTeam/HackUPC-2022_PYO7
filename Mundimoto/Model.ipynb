{
 "cells": [
  {
   "cell_type": "markdown",
   "metadata": {
    "id": "dOJLN9L8ZBK8"
   },
   "source": [
    "# Import libraries"
   ]
  },
  {
   "cell_type": "code",
   "execution_count": 1,
   "metadata": {
    "executionInfo": {
     "elapsed": 289,
     "status": "ok",
     "timestamp": 1651384960304,
     "user": {
      "displayName": "Sebastian Paglia",
      "userId": "05356319514303203784"
     },
     "user_tz": -120
    },
    "id": "SveEmfOwZAY0"
   },
   "outputs": [],
   "source": [
    "import pandas as pd\n",
    "import numpy as np\n",
    "\n",
    "from sklearn import preprocessing\n",
    "from sklearn.model_selection import train_test_split\n",
    "\n",
    "df=pd.read_csv('exploitation/motos_after_preprocessing_real_data.csv', sep=\";\")"
   ]
  },
  {
   "cell_type": "code",
   "execution_count": 2,
   "metadata": {
    "colab": {
     "base_uri": "https://localhost:8080/"
    },
    "executionInfo": {
     "elapsed": 238,
     "status": "ok",
     "timestamp": 1651385211835,
     "user": {
      "displayName": "Sebastian Paglia",
      "userId": "05356319514303203784"
     },
     "user_tz": -120
    },
    "id": "Rq9zaf7AdZL-",
    "outputId": "e8ba82ec-0c45-4cea-cba7-de60a7a2106f"
   },
   "outputs": [
    {
     "data": {
      "text/plain": [
       "Index(['Unnamed: 0', 'id', 'Brand', 'Model', 'Year', 'Odometer', 'Sell_Price',\n",
       "       'Purchase_Price', 'Category', 'Rating', 'Displacement (ccm)',\n",
       "       'Power (hp)', 'Torque (Nm)', 'Engine cylinder', 'Engine stroke',\n",
       "       'Gearbox', 'Bore (mm)', 'Stroke (mm)', 'Transmission type',\n",
       "       'Front brakes', 'Rear brakes', 'Front tire', 'Rear tire',\n",
       "       'Front suspension', 'Rear suspension', 'Dry weight (kg)',\n",
       "       'Wheelbase (mm)', 'Fuel capacity (lts)', 'Fuel system', 'Fuel control',\n",
       "       'Seat height (mm)', 'Cooling system', 'Color options', 'km_cat',\n",
       "       'yearcat', 'price_cat', 'sell_price_cat', 'purch_price_cat', 'hpwcat',\n",
       "       'fuel', 'cc', 'licence'],\n",
       "      dtype='object')"
      ]
     },
     "execution_count": 2,
     "metadata": {},
     "output_type": "execute_result"
    }
   ],
   "source": [
    "df.columns"
   ]
  },
  {
   "cell_type": "code",
   "execution_count": 3,
   "metadata": {
    "executionInfo": {
     "elapsed": 227,
     "status": "ok",
     "timestamp": 1651385215416,
     "user": {
      "displayName": "Sebastian Paglia",
      "userId": "05356319514303203784"
     },
     "user_tz": -120
    },
    "id": "0OBHWWOXdmCJ"
   },
   "outputs": [],
   "source": [
    "dfmodel_columns=df.select_dtypes(include=np.number).columns.tolist()"
   ]
  },
  {
   "cell_type": "code",
   "execution_count": 4,
   "metadata": {
    "colab": {
     "base_uri": "https://localhost:8080/",
     "height": 404
    },
    "executionInfo": {
     "elapsed": 380,
     "status": "ok",
     "timestamp": 1651385217090,
     "user": {
      "displayName": "Sebastian Paglia",
      "userId": "05356319514303203784"
     },
     "user_tz": -120
    },
    "id": "nCBD-JbrEBWw",
    "outputId": "a1eb3801-26d4-417b-b4c8-0ee2e4d5c06b"
   },
   "outputs": [
    {
     "data": {
      "text/html": [
       "<div>\n",
       "<style scoped>\n",
       "    .dataframe tbody tr th:only-of-type {\n",
       "        vertical-align: middle;\n",
       "    }\n",
       "\n",
       "    .dataframe tbody tr th {\n",
       "        vertical-align: top;\n",
       "    }\n",
       "\n",
       "    .dataframe thead th {\n",
       "        text-align: right;\n",
       "    }\n",
       "</style>\n",
       "<table border=\"1\" class=\"dataframe\">\n",
       "  <thead>\n",
       "    <tr style=\"text-align: right;\">\n",
       "      <th></th>\n",
       "      <th>Unnamed: 0</th>\n",
       "      <th>id</th>\n",
       "      <th>Brand</th>\n",
       "      <th>Model</th>\n",
       "      <th>Year</th>\n",
       "      <th>Odometer</th>\n",
       "      <th>Sell_Price</th>\n",
       "      <th>Purchase_Price</th>\n",
       "      <th>Category</th>\n",
       "      <th>Rating</th>\n",
       "      <th>...</th>\n",
       "      <th>Color options</th>\n",
       "      <th>km_cat</th>\n",
       "      <th>yearcat</th>\n",
       "      <th>price_cat</th>\n",
       "      <th>sell_price_cat</th>\n",
       "      <th>purch_price_cat</th>\n",
       "      <th>hpwcat</th>\n",
       "      <th>fuel</th>\n",
       "      <th>cc</th>\n",
       "      <th>licence</th>\n",
       "    </tr>\n",
       "  </thead>\n",
       "  <tbody>\n",
       "    <tr>\n",
       "      <th>0</th>\n",
       "      <td>0</td>\n",
       "      <td>204</td>\n",
       "      <td>honda</td>\n",
       "      <td>forza 125</td>\n",
       "      <td>2019</td>\n",
       "      <td>10200</td>\n",
       "      <td>3890</td>\n",
       "      <td>NaN</td>\n",
       "      <td>Scooter</td>\n",
       "      <td>NaN</td>\n",
       "      <td>...</td>\n",
       "      <td>Gloss Black/Matt Cynos Grey Metallic, Matt Luc...</td>\n",
       "      <td>10000-20000</td>\n",
       "      <td>(2016, 2022]</td>\n",
       "      <td>2000-4000</td>\n",
       "      <td>2000-4000</td>\n",
       "      <td>NaN</td>\n",
       "      <td>1.0</td>\n",
       "      <td>1</td>\n",
       "      <td>0-300</td>\n",
       "      <td>2.0</td>\n",
       "    </tr>\n",
       "    <tr>\n",
       "      <th>1</th>\n",
       "      <td>1</td>\n",
       "      <td>11219</td>\n",
       "      <td>honda</td>\n",
       "      <td>forza 125</td>\n",
       "      <td>2019</td>\n",
       "      <td>10000</td>\n",
       "      <td>3990</td>\n",
       "      <td>NaN</td>\n",
       "      <td>Scooter</td>\n",
       "      <td>NaN</td>\n",
       "      <td>...</td>\n",
       "      <td>Gloss Black/Matt Cynos Grey Metallic, Matt Luc...</td>\n",
       "      <td>0-10000</td>\n",
       "      <td>(2016, 2022]</td>\n",
       "      <td>2000-4000</td>\n",
       "      <td>2000-4000</td>\n",
       "      <td>NaN</td>\n",
       "      <td>1.0</td>\n",
       "      <td>1</td>\n",
       "      <td>0-300</td>\n",
       "      <td>2.0</td>\n",
       "    </tr>\n",
       "    <tr>\n",
       "      <th>2</th>\n",
       "      <td>2</td>\n",
       "      <td>19244</td>\n",
       "      <td>honda</td>\n",
       "      <td>forza 125</td>\n",
       "      <td>2019</td>\n",
       "      <td>20000</td>\n",
       "      <td>3990</td>\n",
       "      <td>NaN</td>\n",
       "      <td>Scooter</td>\n",
       "      <td>NaN</td>\n",
       "      <td>...</td>\n",
       "      <td>Gloss Black/Matt Cynos Grey Metallic, Matt Luc...</td>\n",
       "      <td>10000-20000</td>\n",
       "      <td>(2016, 2022]</td>\n",
       "      <td>2000-4000</td>\n",
       "      <td>2000-4000</td>\n",
       "      <td>NaN</td>\n",
       "      <td>1.0</td>\n",
       "      <td>1</td>\n",
       "      <td>0-300</td>\n",
       "      <td>2.0</td>\n",
       "    </tr>\n",
       "    <tr>\n",
       "      <th>3</th>\n",
       "      <td>3</td>\n",
       "      <td>30080</td>\n",
       "      <td>honda</td>\n",
       "      <td>forza 125</td>\n",
       "      <td>2019</td>\n",
       "      <td>20000</td>\n",
       "      <td>3790</td>\n",
       "      <td>NaN</td>\n",
       "      <td>Scooter</td>\n",
       "      <td>NaN</td>\n",
       "      <td>...</td>\n",
       "      <td>Gloss Black/Matt Cynos Grey Metallic, Matt Luc...</td>\n",
       "      <td>10000-20000</td>\n",
       "      <td>(2016, 2022]</td>\n",
       "      <td>2000-4000</td>\n",
       "      <td>2000-4000</td>\n",
       "      <td>NaN</td>\n",
       "      <td>1.0</td>\n",
       "      <td>1</td>\n",
       "      <td>0-300</td>\n",
       "      <td>2.0</td>\n",
       "    </tr>\n",
       "    <tr>\n",
       "      <th>4</th>\n",
       "      <td>4</td>\n",
       "      <td>31925</td>\n",
       "      <td>honda</td>\n",
       "      <td>forza 125</td>\n",
       "      <td>2019</td>\n",
       "      <td>30000</td>\n",
       "      <td>3790</td>\n",
       "      <td>NaN</td>\n",
       "      <td>Scooter</td>\n",
       "      <td>NaN</td>\n",
       "      <td>...</td>\n",
       "      <td>Gloss Black/Matt Cynos Grey Metallic, Matt Luc...</td>\n",
       "      <td>20000-30000</td>\n",
       "      <td>(2016, 2022]</td>\n",
       "      <td>2000-4000</td>\n",
       "      <td>2000-4000</td>\n",
       "      <td>NaN</td>\n",
       "      <td>1.0</td>\n",
       "      <td>1</td>\n",
       "      <td>0-300</td>\n",
       "      <td>2.0</td>\n",
       "    </tr>\n",
       "  </tbody>\n",
       "</table>\n",
       "<p>5 rows × 42 columns</p>\n",
       "</div>"
      ],
      "text/plain": [
       "   Unnamed: 0     id  Brand      Model  Year  Odometer  Sell_Price  \\\n",
       "0           0    204  honda  forza 125  2019     10200        3890   \n",
       "1           1  11219  honda  forza 125  2019     10000        3990   \n",
       "2           2  19244  honda  forza 125  2019     20000        3990   \n",
       "3           3  30080  honda  forza 125  2019     20000        3790   \n",
       "4           4  31925  honda  forza 125  2019     30000        3790   \n",
       "\n",
       "   Purchase_Price Category  Rating  ...  \\\n",
       "0             NaN  Scooter     NaN  ...   \n",
       "1             NaN  Scooter     NaN  ...   \n",
       "2             NaN  Scooter     NaN  ...   \n",
       "3             NaN  Scooter     NaN  ...   \n",
       "4             NaN  Scooter     NaN  ...   \n",
       "\n",
       "                                       Color options       km_cat  \\\n",
       "0  Gloss Black/Matt Cynos Grey Metallic, Matt Luc...  10000-20000   \n",
       "1  Gloss Black/Matt Cynos Grey Metallic, Matt Luc...      0-10000   \n",
       "2  Gloss Black/Matt Cynos Grey Metallic, Matt Luc...  10000-20000   \n",
       "3  Gloss Black/Matt Cynos Grey Metallic, Matt Luc...  10000-20000   \n",
       "4  Gloss Black/Matt Cynos Grey Metallic, Matt Luc...  20000-30000   \n",
       "\n",
       "        yearcat  price_cat sell_price_cat purch_price_cat  hpwcat  fuel  \\\n",
       "0  (2016, 2022]  2000-4000      2000-4000             NaN     1.0     1   \n",
       "1  (2016, 2022]  2000-4000      2000-4000             NaN     1.0     1   \n",
       "2  (2016, 2022]  2000-4000      2000-4000             NaN     1.0     1   \n",
       "3  (2016, 2022]  2000-4000      2000-4000             NaN     1.0     1   \n",
       "4  (2016, 2022]  2000-4000      2000-4000             NaN     1.0     1   \n",
       "\n",
       "      cc licence  \n",
       "0  0-300     2.0  \n",
       "1  0-300     2.0  \n",
       "2  0-300     2.0  \n",
       "3  0-300     2.0  \n",
       "4  0-300     2.0  \n",
       "\n",
       "[5 rows x 42 columns]"
      ]
     },
     "execution_count": 4,
     "metadata": {},
     "output_type": "execute_result"
    }
   ],
   "source": [
    "df.head()"
   ]
  },
  {
   "cell_type": "code",
   "execution_count": 5,
   "metadata": {
    "colab": {
     "base_uri": "https://localhost:8080/"
    },
    "executionInfo": {
     "elapsed": 390,
     "status": "ok",
     "timestamp": 1651385220333,
     "user": {
      "displayName": "Sebastian Paglia",
      "userId": "05356319514303203784"
     },
     "user_tz": -120
    },
    "id": "hGxYLBGPgrJj",
    "outputId": "1bb779f3-ae27-41f7-8618-fb2cade2e323"
   },
   "outputs": [
    {
     "data": {
      "text/plain": [
       "['Unnamed: 0',\n",
       " 'id',\n",
       " 'Year',\n",
       " 'Odometer',\n",
       " 'Sell_Price',\n",
       " 'Purchase_Price',\n",
       " 'Rating',\n",
       " 'Displacement (ccm)',\n",
       " 'Power (hp)',\n",
       " 'Torque (Nm)',\n",
       " 'Bore (mm)',\n",
       " 'Stroke (mm)',\n",
       " 'Dry weight (kg)',\n",
       " 'Wheelbase (mm)',\n",
       " 'Fuel capacity (lts)',\n",
       " 'Seat height (mm)',\n",
       " 'hpwcat',\n",
       " 'fuel',\n",
       " 'licence']"
      ]
     },
     "execution_count": 5,
     "metadata": {},
     "output_type": "execute_result"
    }
   ],
   "source": [
    "dfmodel_columns"
   ]
  },
  {
   "cell_type": "markdown",
   "metadata": {
    "id": "FljVSEOH7A4t"
   },
   "source": [
    "## Drop variables"
   ]
  },
  {
   "cell_type": "code",
   "execution_count": 6,
   "metadata": {
    "executionInfo": {
     "elapsed": 254,
     "status": "ok",
     "timestamp": 1651385224727,
     "user": {
      "displayName": "Sebastian Paglia",
      "userId": "05356319514303203784"
     },
     "user_tz": -120
    },
    "id": "BmwNxndXeJ8G"
   },
   "outputs": [],
   "source": [
    "df.drop(['Unnamed: 0', 'id', 'Year', 'Fuel capacity (lts)','fuel', 'licence', 'Purchase_Price', 'Sell_Price', 'hpwcat'], axis=1, inplace=True)"
   ]
  },
  {
   "cell_type": "code",
   "execution_count": 7,
   "metadata": {
    "colab": {
     "base_uri": "https://localhost:8080/"
    },
    "executionInfo": {
     "elapsed": 2,
     "status": "ok",
     "timestamp": 1651385225781,
     "user": {
      "displayName": "Sebastian Paglia",
      "userId": "05356319514303203784"
     },
     "user_tz": -120
    },
    "id": "gXWks2BQgutJ",
    "outputId": "e669d2a2-7ffa-4340-e03e-8f995ae7e00e"
   },
   "outputs": [
    {
     "data": {
      "text/plain": [
       "Index(['Brand', 'Model', 'Odometer', 'Category', 'Rating',\n",
       "       'Displacement (ccm)', 'Power (hp)', 'Torque (Nm)', 'Engine cylinder',\n",
       "       'Engine stroke', 'Gearbox', 'Bore (mm)', 'Stroke (mm)',\n",
       "       'Transmission type', 'Front brakes', 'Rear brakes', 'Front tire',\n",
       "       'Rear tire', 'Front suspension', 'Rear suspension', 'Dry weight (kg)',\n",
       "       'Wheelbase (mm)', 'Fuel system', 'Fuel control', 'Seat height (mm)',\n",
       "       'Cooling system', 'Color options', 'km_cat', 'yearcat', 'price_cat',\n",
       "       'sell_price_cat', 'purch_price_cat', 'cc'],\n",
       "      dtype='object')"
      ]
     },
     "execution_count": 7,
     "metadata": {},
     "output_type": "execute_result"
    }
   ],
   "source": [
    "df.columns"
   ]
  },
  {
   "cell_type": "markdown",
   "metadata": {
    "id": "aGFElAUMYEQj"
   },
   "source": [
    "# Split"
   ]
  },
  {
   "cell_type": "code",
   "execution_count": 8,
   "metadata": {
    "executionInfo": {
     "elapsed": 225,
     "status": "ok",
     "timestamp": 1651385229458,
     "user": {
      "displayName": "Sebastian Paglia",
      "userId": "05356319514303203784"
     },
     "user_tz": -120
    },
    "id": "S6Pqmkw_Hh1p"
   },
   "outputs": [],
   "source": [
    "num_columns = df.select_dtypes(include=np.number).columns.tolist()"
   ]
  },
  {
   "cell_type": "code",
   "execution_count": 9,
   "metadata": {
    "colab": {
     "base_uri": "https://localhost:8080/"
    },
    "executionInfo": {
     "elapsed": 2,
     "status": "ok",
     "timestamp": 1651385230445,
     "user": {
      "displayName": "Sebastian Paglia",
      "userId": "05356319514303203784"
     },
     "user_tz": -120
    },
    "id": "s21etPl8HmvM",
    "outputId": "8837f246-5788-4760-b102-6b01b85a4ed5"
   },
   "outputs": [
    {
     "data": {
      "text/plain": [
       "['Odometer',\n",
       " 'Rating',\n",
       " 'Displacement (ccm)',\n",
       " 'Power (hp)',\n",
       " 'Torque (Nm)',\n",
       " 'Bore (mm)',\n",
       " 'Stroke (mm)',\n",
       " 'Dry weight (kg)',\n",
       " 'Wheelbase (mm)',\n",
       " 'Seat height (mm)']"
      ]
     },
     "execution_count": 9,
     "metadata": {},
     "output_type": "execute_result"
    }
   ],
   "source": [
    "num_columns"
   ]
  },
  {
   "cell_type": "code",
   "execution_count": 10,
   "metadata": {
    "executionInfo": {
     "elapsed": 230,
     "status": "ok",
     "timestamp": 1651385235506,
     "user": {
      "displayName": "Sebastian Paglia",
      "userId": "05356319514303203784"
     },
     "user_tz": -120
    },
    "id": "EvbYGntMHIjr"
   },
   "outputs": [],
   "source": [
    "df = df[num_columns]"
   ]
  },
  {
   "cell_type": "code",
   "execution_count": 11,
   "metadata": {
    "colab": {
     "base_uri": "https://localhost:8080/"
    },
    "executionInfo": {
     "elapsed": 5,
     "status": "ok",
     "timestamp": 1651385236489,
     "user": {
      "displayName": "Sebastian Paglia",
      "userId": "05356319514303203784"
     },
     "user_tz": -120
    },
    "id": "wcZi7YrEH4E6",
    "outputId": "e25fec52-491e-4cc1-daaf-5027f3002a34"
   },
   "outputs": [
    {
     "data": {
      "text/plain": [
       "Odometer                0\n",
       "Rating                359\n",
       "Displacement (ccm)      0\n",
       "Power (hp)            363\n",
       "Torque (Nm)           424\n",
       "Bore (mm)             175\n",
       "Stroke (mm)           175\n",
       "Dry weight (kg)       881\n",
       "Wheelbase (mm)        217\n",
       "Seat height (mm)      129\n",
       "dtype: int64"
      ]
     },
     "execution_count": 11,
     "metadata": {},
     "output_type": "execute_result"
    }
   ],
   "source": [
    "df.isna().sum()"
   ]
  },
  {
   "cell_type": "code",
   "execution_count": 12,
   "metadata": {
    "executionInfo": {
     "elapsed": 219,
     "status": "ok",
     "timestamp": 1651385239848,
     "user": {
      "displayName": "Sebastian Paglia",
      "userId": "05356319514303203784"
     },
     "user_tz": -120
    },
    "id": "iv1dP1KrI4ut"
   },
   "outputs": [],
   "source": [
    "from sklearn.impute import SimpleImputer\n",
    "preprocessor = SimpleImputer(missing_values=np.nan, strategy='mean')"
   ]
  },
  {
   "cell_type": "code",
   "execution_count": 13,
   "metadata": {
    "colab": {
     "base_uri": "https://localhost:8080/"
    },
    "executionInfo": {
     "elapsed": 2,
     "status": "ok",
     "timestamp": 1651385240996,
     "user": {
      "displayName": "Sebastian Paglia",
      "userId": "05356319514303203784"
     },
     "user_tz": -120
    },
    "id": "uPyN7WppIIVg",
    "outputId": "d0619ade-cf3a-403e-e0c1-0dbc732a7655"
   },
   "outputs": [
    {
     "data": {
      "text/plain": [
       "0"
      ]
     },
     "execution_count": 13,
     "metadata": {},
     "output_type": "execute_result"
    }
   ],
   "source": [
    "X = np.array(df['Rating']).reshape(-1,1)\n",
    "preprocessor.fit(X)\n",
    "X_prep = preprocessor.transform(X)\n",
    "df['Rating'] = X_prep.reshape(1,-1)[0]\n",
    "df['Rating'].isna().sum()"
   ]
  },
  {
   "cell_type": "code",
   "execution_count": 14,
   "metadata": {
    "colab": {
     "base_uri": "https://localhost:8080/"
    },
    "executionInfo": {
     "elapsed": 2,
     "status": "ok",
     "timestamp": 1651385242151,
     "user": {
      "displayName": "Sebastian Paglia",
      "userId": "05356319514303203784"
     },
     "user_tz": -120
    },
    "id": "6TVz-q1vI_MP",
    "outputId": "f2a6e470-b8a4-476d-d8db-7548dba962a6"
   },
   "outputs": [
    {
     "data": {
      "text/plain": [
       "0"
      ]
     },
     "execution_count": 14,
     "metadata": {},
     "output_type": "execute_result"
    }
   ],
   "source": [
    "X = np.array(df['Power (hp)']).reshape(-1,1)\n",
    "preprocessor.fit(X)\n",
    "X_prep = preprocessor.transform(X)\n",
    "df['Power (hp)'] = X_prep.reshape(1,-1)[0]\n",
    "df['Power (hp)'].isna().sum()"
   ]
  },
  {
   "cell_type": "code",
   "execution_count": 15,
   "metadata": {
    "colab": {
     "base_uri": "https://localhost:8080/"
    },
    "executionInfo": {
     "elapsed": 250,
     "status": "ok",
     "timestamp": 1651385245048,
     "user": {
      "displayName": "Sebastian Paglia",
      "userId": "05356319514303203784"
     },
     "user_tz": -120
    },
    "id": "k34qCBohJL5z",
    "outputId": "130f4f3d-9a2a-4848-e54e-1943d10a2914"
   },
   "outputs": [
    {
     "data": {
      "text/plain": [
       "0"
      ]
     },
     "execution_count": 15,
     "metadata": {},
     "output_type": "execute_result"
    }
   ],
   "source": [
    "X = np.array(df['Bore (mm)']).reshape(-1,1)\n",
    "preprocessor.fit(X)\n",
    "X_prep = preprocessor.transform(X)\n",
    "df['Bore (mm)'] = X_prep.reshape(1,-1)[0]\n",
    "df['Bore (mm)'].isna().sum()"
   ]
  },
  {
   "cell_type": "code",
   "execution_count": 16,
   "metadata": {
    "colab": {
     "base_uri": "https://localhost:8080/"
    },
    "executionInfo": {
     "elapsed": 236,
     "status": "ok",
     "timestamp": 1651385246635,
     "user": {
      "displayName": "Sebastian Paglia",
      "userId": "05356319514303203784"
     },
     "user_tz": -120
    },
    "id": "lQOXkkc5JZId",
    "outputId": "087db2e6-e3f1-4bac-f929-b19d4c23f168"
   },
   "outputs": [
    {
     "data": {
      "text/plain": [
       "0"
      ]
     },
     "execution_count": 16,
     "metadata": {},
     "output_type": "execute_result"
    }
   ],
   "source": [
    "X = np.array(df['Torque (Nm)']).reshape(-1,1)\n",
    "preprocessor.fit(X)\n",
    "X_prep = preprocessor.transform(X)\n",
    "df['Torque (Nm)'] = X_prep.reshape(1,-1)[0]\n",
    "df['Torque (Nm)'].isna().sum()"
   ]
  },
  {
   "cell_type": "code",
   "execution_count": 17,
   "metadata": {
    "colab": {
     "base_uri": "https://localhost:8080/"
    },
    "executionInfo": {
     "elapsed": 2,
     "status": "ok",
     "timestamp": 1651385247892,
     "user": {
      "displayName": "Sebastian Paglia",
      "userId": "05356319514303203784"
     },
     "user_tz": -120
    },
    "id": "r968AgYbJiOg",
    "outputId": "2ad08403-ee86-4d31-f323-769cee6bd2a1"
   },
   "outputs": [
    {
     "data": {
      "text/plain": [
       "0"
      ]
     },
     "execution_count": 17,
     "metadata": {},
     "output_type": "execute_result"
    }
   ],
   "source": [
    "X = np.array(df['Stroke (mm)']).reshape(-1,1)\n",
    "preprocessor.fit(X)\n",
    "X_prep = preprocessor.transform(X)\n",
    "df['Stroke (mm)'] = X_prep.reshape(1,-1)[0]\n",
    "df['Stroke (mm)'].isna().sum()"
   ]
  },
  {
   "cell_type": "code",
   "execution_count": 18,
   "metadata": {
    "colab": {
     "base_uri": "https://localhost:8080/"
    },
    "executionInfo": {
     "elapsed": 275,
     "status": "ok",
     "timestamp": 1651385251207,
     "user": {
      "displayName": "Sebastian Paglia",
      "userId": "05356319514303203784"
     },
     "user_tz": -120
    },
    "id": "6uFJ1ph2JpKe",
    "outputId": "5d45e780-6385-4d8c-9e0b-0dddac3dcd0c"
   },
   "outputs": [
    {
     "data": {
      "text/plain": [
       "0"
      ]
     },
     "execution_count": 18,
     "metadata": {},
     "output_type": "execute_result"
    }
   ],
   "source": [
    "X = np.array(df['Dry weight (kg)']).reshape(-1,1)\n",
    "preprocessor.fit(X)\n",
    "X_prep = preprocessor.transform(X)\n",
    "df['Dry weight (kg)'] = X_prep.reshape(1,-1)[0]\n",
    "df['Dry weight (kg)'].isna().sum()"
   ]
  },
  {
   "cell_type": "code",
   "execution_count": 19,
   "metadata": {
    "colab": {
     "base_uri": "https://localhost:8080/"
    },
    "executionInfo": {
     "elapsed": 330,
     "status": "ok",
     "timestamp": 1651385252773,
     "user": {
      "displayName": "Sebastian Paglia",
      "userId": "05356319514303203784"
     },
     "user_tz": -120
    },
    "id": "_yW6Be75J3v2",
    "outputId": "bf87a7c8-5c85-4af6-c751-39a290ce1740"
   },
   "outputs": [
    {
     "data": {
      "text/plain": [
       "0"
      ]
     },
     "execution_count": 19,
     "metadata": {},
     "output_type": "execute_result"
    }
   ],
   "source": [
    "X = np.array(df['Wheelbase (mm)']).reshape(-1,1)\n",
    "preprocessor.fit(X)\n",
    "X_prep = preprocessor.transform(X)\n",
    "df['Wheelbase (mm)'] = X_prep.reshape(1,-1)[0]\n",
    "df['Wheelbase (mm)'].isna().sum()"
   ]
  },
  {
   "cell_type": "code",
   "execution_count": 20,
   "metadata": {
    "colab": {
     "base_uri": "https://localhost:8080/"
    },
    "executionInfo": {
     "elapsed": 230,
     "status": "ok",
     "timestamp": 1651385254251,
     "user": {
      "displayName": "Sebastian Paglia",
      "userId": "05356319514303203784"
     },
     "user_tz": -120
    },
    "id": "6hiqG4dgJ_k5",
    "outputId": "5045143b-f624-4529-bcfb-e3fc0bc82b68"
   },
   "outputs": [
    {
     "data": {
      "text/plain": [
       "0"
      ]
     },
     "execution_count": 20,
     "metadata": {},
     "output_type": "execute_result"
    }
   ],
   "source": [
    "X = np.array(df['Seat height (mm)']).reshape(-1,1)\n",
    "preprocessor.fit(X)\n",
    "X_prep = preprocessor.transform(X)\n",
    "df['Seat height (mm)'] = X_prep.reshape(1,-1)[0]\n",
    "df['Seat height (mm)'].isna().sum()"
   ]
  },
  {
   "cell_type": "code",
   "execution_count": 21,
   "metadata": {
    "colab": {
     "base_uri": "https://localhost:8080/",
     "height": 334
    },
    "executionInfo": {
     "elapsed": 4,
     "status": "ok",
     "timestamp": 1651385255684,
     "user": {
      "displayName": "Sebastian Paglia",
      "userId": "05356319514303203784"
     },
     "user_tz": -120
    },
    "id": "fGqVMsxtHwhz",
    "outputId": "f8e9aca6-2c62-445d-ceeb-711e88d88458"
   },
   "outputs": [
    {
     "data": {
      "text/html": [
       "<div>\n",
       "<style scoped>\n",
       "    .dataframe tbody tr th:only-of-type {\n",
       "        vertical-align: middle;\n",
       "    }\n",
       "\n",
       "    .dataframe tbody tr th {\n",
       "        vertical-align: top;\n",
       "    }\n",
       "\n",
       "    .dataframe thead th {\n",
       "        text-align: right;\n",
       "    }\n",
       "</style>\n",
       "<table border=\"1\" class=\"dataframe\">\n",
       "  <thead>\n",
       "    <tr style=\"text-align: right;\">\n",
       "      <th></th>\n",
       "      <th>Odometer</th>\n",
       "      <th>Rating</th>\n",
       "      <th>Displacement (ccm)</th>\n",
       "      <th>Power (hp)</th>\n",
       "      <th>Torque (Nm)</th>\n",
       "      <th>Bore (mm)</th>\n",
       "      <th>Stroke (mm)</th>\n",
       "      <th>Dry weight (kg)</th>\n",
       "      <th>Wheelbase (mm)</th>\n",
       "      <th>Seat height (mm)</th>\n",
       "    </tr>\n",
       "  </thead>\n",
       "  <tbody>\n",
       "    <tr>\n",
       "      <th>0</th>\n",
       "      <td>10200</td>\n",
       "      <td>3.550085</td>\n",
       "      <td>124.9</td>\n",
       "      <td>14.8</td>\n",
       "      <td>12.5</td>\n",
       "      <td>52.4</td>\n",
       "      <td>57.9</td>\n",
       "      <td>184.198749</td>\n",
       "      <td>1490.0</td>\n",
       "      <td>780.0</td>\n",
       "    </tr>\n",
       "    <tr>\n",
       "      <th>1</th>\n",
       "      <td>10000</td>\n",
       "      <td>3.550085</td>\n",
       "      <td>124.9</td>\n",
       "      <td>14.8</td>\n",
       "      <td>12.5</td>\n",
       "      <td>52.4</td>\n",
       "      <td>57.9</td>\n",
       "      <td>184.198749</td>\n",
       "      <td>1490.0</td>\n",
       "      <td>780.0</td>\n",
       "    </tr>\n",
       "    <tr>\n",
       "      <th>2</th>\n",
       "      <td>20000</td>\n",
       "      <td>3.550085</td>\n",
       "      <td>124.9</td>\n",
       "      <td>14.8</td>\n",
       "      <td>12.5</td>\n",
       "      <td>52.4</td>\n",
       "      <td>57.9</td>\n",
       "      <td>184.198749</td>\n",
       "      <td>1490.0</td>\n",
       "      <td>780.0</td>\n",
       "    </tr>\n",
       "    <tr>\n",
       "      <th>3</th>\n",
       "      <td>20000</td>\n",
       "      <td>3.550085</td>\n",
       "      <td>124.9</td>\n",
       "      <td>14.8</td>\n",
       "      <td>12.5</td>\n",
       "      <td>52.4</td>\n",
       "      <td>57.9</td>\n",
       "      <td>184.198749</td>\n",
       "      <td>1490.0</td>\n",
       "      <td>780.0</td>\n",
       "    </tr>\n",
       "    <tr>\n",
       "      <th>4</th>\n",
       "      <td>30000</td>\n",
       "      <td>3.550085</td>\n",
       "      <td>124.9</td>\n",
       "      <td>14.8</td>\n",
       "      <td>12.5</td>\n",
       "      <td>52.4</td>\n",
       "      <td>57.9</td>\n",
       "      <td>184.198749</td>\n",
       "      <td>1490.0</td>\n",
       "      <td>780.0</td>\n",
       "    </tr>\n",
       "  </tbody>\n",
       "</table>\n",
       "</div>"
      ],
      "text/plain": [
       "   Odometer    Rating  Displacement (ccm)  Power (hp)  Torque (Nm)  Bore (mm)  \\\n",
       "0     10200  3.550085               124.9        14.8         12.5       52.4   \n",
       "1     10000  3.550085               124.9        14.8         12.5       52.4   \n",
       "2     20000  3.550085               124.9        14.8         12.5       52.4   \n",
       "3     20000  3.550085               124.9        14.8         12.5       52.4   \n",
       "4     30000  3.550085               124.9        14.8         12.5       52.4   \n",
       "\n",
       "   Stroke (mm)  Dry weight (kg)  Wheelbase (mm)  Seat height (mm)  \n",
       "0         57.9       184.198749          1490.0             780.0  \n",
       "1         57.9       184.198749          1490.0             780.0  \n",
       "2         57.9       184.198749          1490.0             780.0  \n",
       "3         57.9       184.198749          1490.0             780.0  \n",
       "4         57.9       184.198749          1490.0             780.0  "
      ]
     },
     "execution_count": 21,
     "metadata": {},
     "output_type": "execute_result"
    }
   ],
   "source": [
    "df.head()"
   ]
  },
  {
   "cell_type": "code",
   "execution_count": 22,
   "metadata": {
    "executionInfo": {
     "elapsed": 262,
     "status": "ok",
     "timestamp": 1651385504038,
     "user": {
      "displayName": "Sebastian Paglia",
      "userId": "05356319514303203784"
     },
     "user_tz": -120
    },
    "id": "fShmbCaKKwCO"
   },
   "outputs": [],
   "source": [
    "df['days_stock'] = np.random.noncentral_chisquare(3,20,size=len(df))"
   ]
  },
  {
   "cell_type": "code",
   "execution_count": 23,
   "metadata": {
    "executionInfo": {
     "elapsed": 353,
     "status": "ok",
     "timestamp": 1651385748141,
     "user": {
      "displayName": "Sebastian Paglia",
      "userId": "05356319514303203784"
     },
     "user_tz": -120
    },
    "id": "Uvi5Hxj4QQ_T"
   },
   "outputs": [],
   "source": [
    "df['days_stock'] = df['days_stock'].apply(lambda x: np.floor(x))"
   ]
  },
  {
   "cell_type": "code",
   "execution_count": 24,
   "metadata": {
    "colab": {
     "base_uri": "https://localhost:8080/"
    },
    "executionInfo": {
     "elapsed": 6,
     "status": "ok",
     "timestamp": 1651385767445,
     "user": {
      "displayName": "Sebastian Paglia",
      "userId": "05356319514303203784"
     },
     "user_tz": -120
    },
    "id": "Ahk64mKYQuCU",
    "outputId": "9da9603b-72db-4927-91fe-b3aee787e63b"
   },
   "outputs": [
    {
     "data": {
      "text/plain": [
       "array([28., 23., 14.,  3., 49., 24., 25., 26., 33.,  9.,  7., 13., 12.,\n",
       "       18., 38., 27., 20., 29., 16., 31., 19., 21., 17.,  6., 37., 15.,\n",
       "       22., 32., 10.,  5., 43., 30., 36., 41., 11., 35., 59.,  2.,  4.,\n",
       "       61., 51., 46., 34., 42., 39., 40., 48.,  8., 67., 53., 45., 47.,\n",
       "       52., 44., 55., 50., 58.,  0., 54., 57., 56.])"
      ]
     },
     "execution_count": 24,
     "metadata": {},
     "output_type": "execute_result"
    }
   ],
   "source": [
    "df['days_stock'].unique()"
   ]
  },
  {
   "cell_type": "code",
   "execution_count": 25,
   "metadata": {
    "colab": {
     "base_uri": "https://localhost:8080/",
     "height": 282
    },
    "executionInfo": {
     "elapsed": 759,
     "status": "ok",
     "timestamp": 1651385550453,
     "user": {
      "displayName": "Sebastian Paglia",
      "userId": "05356319514303203784"
     },
     "user_tz": -120
    },
    "id": "9Z3BfZ4bPzrZ",
    "outputId": "7f5b574c-edc6-4af1-9dd9-c817359af5b1"
   },
   "outputs": [
    {
     "data": {
      "text/plain": [
       "<AxesSubplot:>"
      ]
     },
     "execution_count": 25,
     "metadata": {},
     "output_type": "execute_result"
    },
    {
     "data": {
      "image/png": "[encoded data removed]",
      "text/plain": [
       "<Figure size 432x288 with 1 Axes>"
      ]
     },
     "metadata": {
      "needs_background": "light"
     },
     "output_type": "display_data"
    }
   ],
   "source": [
    "df['days_stock'].hist()"
   ]
  },
  {
   "cell_type": "markdown",
   "metadata": {
    "id": "zzzB5CEOPzGS"
   },
   "source": [
    "Split into 69% learn and 31% test"
   ]
  },
  {
   "cell_type": "code",
   "execution_count": 26,
   "metadata": {
    "executionInfo": {
     "elapsed": 228,
     "status": "ok",
     "timestamp": 1651385775153,
     "user": {
      "displayName": "Sebastian Paglia",
      "userId": "05356319514303203784"
     },
     "user_tz": -120
    },
    "id": "zxQrl8TUZhiC"
   },
   "outputs": [],
   "source": [
    "y=df['days_stock']\n",
    "X=df.drop(columns='days_stock')"
   ]
  },
  {
   "cell_type": "code",
   "execution_count": 27,
   "metadata": {
    "executionInfo": {
     "elapsed": 240,
     "status": "ok",
     "timestamp": 1651385777046,
     "user": {
      "displayName": "Sebastian Paglia",
      "userId": "05356319514303203784"
     },
     "user_tz": -120
    },
    "id": "TcacShSgYDtR"
   },
   "outputs": [],
   "source": [
    "X_learn, X_test, y_learn, y_test = train_test_split(X, y, test_size=0.31, random_state=0)"
   ]
  },
  {
   "cell_type": "markdown",
   "metadata": {
    "id": "GQPU_JhZP5y4"
   },
   "source": [
    "From the actual learn data, split 69% train and 31% validation"
   ]
  },
  {
   "cell_type": "code",
   "execution_count": 28,
   "metadata": {
    "executionInfo": {
     "elapsed": 249,
     "status": "ok",
     "timestamp": 1651385779318,
     "user": {
      "displayName": "Sebastian Paglia",
      "userId": "05356319514303203784"
     },
     "user_tz": -120
    },
    "id": "XktfdOFCQW3G"
   },
   "outputs": [],
   "source": [
    "X_train, X_val, y_train, y_val = train_test_split(X_learn, y_learn, test_size=0.31, random_state=0)"
   ]
  },
  {
   "cell_type": "markdown",
   "metadata": {
    "id": "BLNJbDddZ1Za"
   },
   "source": [
    "# Modeling"
   ]
  },
  {
   "cell_type": "code",
   "execution_count": 29,
   "metadata": {
    "executionInfo": {
     "elapsed": 278,
     "status": "ok",
     "timestamp": 1651385780981,
     "user": {
      "displayName": "Sebastian Paglia",
      "userId": "05356319514303203784"
     },
     "user_tz": -120
    },
    "id": "Y1b3Man_aDQ0"
   },
   "outputs": [],
   "source": [
    "#!pip install SVC\n",
    "#!pip install -U scikit-learn"
   ]
  },
  {
   "cell_type": "code",
   "execution_count": 32,
   "metadata": {
    "executionInfo": {
     "elapsed": 234,
     "status": "ok",
     "timestamp": 1651385782620,
     "user": {
      "displayName": "Sebastian Paglia",
      "userId": "05356319514303203784"
     },
     "user_tz": -120
    },
    "id": "GN3RzvuCZ4aq"
   },
   "outputs": [
    {
     "name": "stderr",
     "output_type": "stream",
     "text": [
      "/Users/efwerr/UPCmasters/HackUPC/Mundimoto/env/lib/python3.10/site-packages/xgboost/compat.py:36: FutureWarning: pandas.Int64Index is deprecated and will be removed from pandas in a future version. Use pandas.Index with the appropriate dtype instead.\n",
      "  from pandas import MultiIndex, Int64Index\n"
     ]
    }
   ],
   "source": [
    "import matplotlib.pyplot as plt\n",
    "from matplotlib.pyplot import figure\n",
    "from sklearn import datasets, ensemble, tree\n",
    "from sklearn.inspection import permutation_importance\n",
    "from sklearn.metrics import mean_squared_error, explained_variance_score, r2_score, mean_absolute_error\n",
    "from sklearn.model_selection import train_test_split\n",
    "from sklearn.linear_model import LinearRegression, Lasso, Ridge, SGDRegressor\n",
    "from sklearn.tree import DecisionTreeRegressor\n",
    "from sklearn.ensemble import RandomForestRegressor, AdaBoostRegressor, GradientBoostingRegressor\n",
    "from sklearn.svm import SVC\n",
    "import lightgbm as lgb\n",
    "from lightgbm import LGBMRegressor \n",
    "import xgboost \n",
    "from xgboost import XGBRegressor"
   ]
  },
  {
   "cell_type": "code",
   "execution_count": 33,
   "metadata": {
    "colab": {
     "base_uri": "https://localhost:8080/",
     "height": 334
    },
    "executionInfo": {
     "elapsed": 267,
     "status": "ok",
     "timestamp": 1651385785169,
     "user": {
      "displayName": "Sebastian Paglia",
      "userId": "05356319514303203784"
     },
     "user_tz": -120
    },
    "id": "LwwidiTmLPrB",
    "outputId": "c97e7b85-217f-4fd3-bac5-b1ed8a9f8250"
   },
   "outputs": [
    {
     "data": {
      "text/html": [
       "<div>\n",
       "<style scoped>\n",
       "    .dataframe tbody tr th:only-of-type {\n",
       "        vertical-align: middle;\n",
       "    }\n",
       "\n",
       "    .dataframe tbody tr th {\n",
       "        vertical-align: top;\n",
       "    }\n",
       "\n",
       "    .dataframe thead th {\n",
       "        text-align: right;\n",
       "    }\n",
       "</style>\n",
       "<table border=\"1\" class=\"dataframe\">\n",
       "  <thead>\n",
       "    <tr style=\"text-align: right;\">\n",
       "      <th></th>\n",
       "      <th>Odometer</th>\n",
       "      <th>Rating</th>\n",
       "      <th>Displacement (ccm)</th>\n",
       "      <th>Power (hp)</th>\n",
       "      <th>Torque (Nm)</th>\n",
       "      <th>Bore (mm)</th>\n",
       "      <th>Stroke (mm)</th>\n",
       "      <th>Dry weight (kg)</th>\n",
       "      <th>Wheelbase (mm)</th>\n",
       "      <th>Seat height (mm)</th>\n",
       "      <th>days_stock</th>\n",
       "    </tr>\n",
       "  </thead>\n",
       "  <tbody>\n",
       "    <tr>\n",
       "      <th>0</th>\n",
       "      <td>10200</td>\n",
       "      <td>3.550085</td>\n",
       "      <td>124.9</td>\n",
       "      <td>14.8</td>\n",
       "      <td>12.5</td>\n",
       "      <td>52.4</td>\n",
       "      <td>57.9</td>\n",
       "      <td>184.198749</td>\n",
       "      <td>1490.0</td>\n",
       "      <td>780.0</td>\n",
       "      <td>28.0</td>\n",
       "    </tr>\n",
       "    <tr>\n",
       "      <th>1</th>\n",
       "      <td>10000</td>\n",
       "      <td>3.550085</td>\n",
       "      <td>124.9</td>\n",
       "      <td>14.8</td>\n",
       "      <td>12.5</td>\n",
       "      <td>52.4</td>\n",
       "      <td>57.9</td>\n",
       "      <td>184.198749</td>\n",
       "      <td>1490.0</td>\n",
       "      <td>780.0</td>\n",
       "      <td>23.0</td>\n",
       "    </tr>\n",
       "    <tr>\n",
       "      <th>2</th>\n",
       "      <td>20000</td>\n",
       "      <td>3.550085</td>\n",
       "      <td>124.9</td>\n",
       "      <td>14.8</td>\n",
       "      <td>12.5</td>\n",
       "      <td>52.4</td>\n",
       "      <td>57.9</td>\n",
       "      <td>184.198749</td>\n",
       "      <td>1490.0</td>\n",
       "      <td>780.0</td>\n",
       "      <td>14.0</td>\n",
       "    </tr>\n",
       "    <tr>\n",
       "      <th>3</th>\n",
       "      <td>20000</td>\n",
       "      <td>3.550085</td>\n",
       "      <td>124.9</td>\n",
       "      <td>14.8</td>\n",
       "      <td>12.5</td>\n",
       "      <td>52.4</td>\n",
       "      <td>57.9</td>\n",
       "      <td>184.198749</td>\n",
       "      <td>1490.0</td>\n",
       "      <td>780.0</td>\n",
       "      <td>3.0</td>\n",
       "    </tr>\n",
       "    <tr>\n",
       "      <th>4</th>\n",
       "      <td>30000</td>\n",
       "      <td>3.550085</td>\n",
       "      <td>124.9</td>\n",
       "      <td>14.8</td>\n",
       "      <td>12.5</td>\n",
       "      <td>52.4</td>\n",
       "      <td>57.9</td>\n",
       "      <td>184.198749</td>\n",
       "      <td>1490.0</td>\n",
       "      <td>780.0</td>\n",
       "      <td>49.0</td>\n",
       "    </tr>\n",
       "  </tbody>\n",
       "</table>\n",
       "</div>"
      ],
      "text/plain": [
       "   Odometer    Rating  Displacement (ccm)  Power (hp)  Torque (Nm)  Bore (mm)  \\\n",
       "0     10200  3.550085               124.9        14.8         12.5       52.4   \n",
       "1     10000  3.550085               124.9        14.8         12.5       52.4   \n",
       "2     20000  3.550085               124.9        14.8         12.5       52.4   \n",
       "3     20000  3.550085               124.9        14.8         12.5       52.4   \n",
       "4     30000  3.550085               124.9        14.8         12.5       52.4   \n",
       "\n",
       "   Stroke (mm)  Dry weight (kg)  Wheelbase (mm)  Seat height (mm)  days_stock  \n",
       "0         57.9       184.198749          1490.0             780.0        28.0  \n",
       "1         57.9       184.198749          1490.0             780.0        23.0  \n",
       "2         57.9       184.198749          1490.0             780.0        14.0  \n",
       "3         57.9       184.198749          1490.0             780.0         3.0  \n",
       "4         57.9       184.198749          1490.0             780.0        49.0  "
      ]
     },
     "execution_count": 33,
     "metadata": {},
     "output_type": "execute_result"
    }
   ],
   "source": [
    "df.head()"
   ]
  },
  {
   "cell_type": "code",
   "execution_count": 34,
   "metadata": {
    "colab": {
     "base_uri": "https://localhost:8080/"
    },
    "executionInfo": {
     "elapsed": 243,
     "status": "ok",
     "timestamp": 1651385787078,
     "user": {
      "displayName": "Sebastian Paglia",
      "userId": "05356319514303203784"
     },
     "user_tz": -120
    },
    "id": "pMUY5JhmMKwa",
    "outputId": "ce04c2dc-4fae-453e-cabb-9fde213334e0"
   },
   "outputs": [
    {
     "data": {
      "text/plain": [
       "(2719, 11)"
      ]
     },
     "execution_count": 34,
     "metadata": {},
     "output_type": "execute_result"
    }
   ],
   "source": [
    "df.shape"
   ]
  },
  {
   "cell_type": "code",
   "execution_count": 35,
   "metadata": {
    "colab": {
     "base_uri": "https://localhost:8080/"
    },
    "executionInfo": {
     "elapsed": 2628,
     "status": "ok",
     "timestamp": 1651385792176,
     "user": {
      "displayName": "Sebastian Paglia",
      "userId": "05356319514303203784"
     },
     "user_tz": -120
    },
    "id": "04U_Ipy2b6jc",
    "outputId": "011550dc-d179-41ed-afca-f1dca933875c"
   },
   "outputs": [
    {
     "name": "stderr",
     "output_type": "stream",
     "text": [
      "/Users/efwerr/UPCmasters/HackUPC/Mundimoto/env/lib/python3.10/site-packages/xgboost/data.py:262: FutureWarning: pandas.Int64Index is deprecated and will be removed from pandas in a future version. Use pandas.Index with the appropriate dtype instead.\n",
      "  elif isinstance(data.columns, (pd.Int64Index, pd.RangeIndex)):\n"
     ]
    }
   ],
   "source": [
    "models ={\"Linear Regression\":LinearRegression(),\n",
    "          \"Decision Tree\": DecisionTreeRegressor(), \n",
    "          \"Random Forest\":RandomForestRegressor(), \n",
    "          \"AdaBoostRegressor\":AdaBoostRegressor(), \n",
    "          \"GradientBoosting\":GradientBoostingRegressor(),\n",
    "          \"XGBRegressor\": XGBRegressor(),\n",
    "          \"SVMRegressor\": SVC()}\n",
    "data={}\n",
    "for name, model in models.items():\n",
    "    model_fit=model.fit(X_train,y_train)\n",
    "    y_pred=model_fit.predict(X_val)\n",
    "    metrics=[mean_squared_error(y_val, y_pred),mean_absolute_error(y_val, y_pred),r2_score(y_val, y_pred)]\n",
    "    data[name]=metrics\n"
   ]
  },
  {
   "cell_type": "code",
   "execution_count": 36,
   "metadata": {
    "colab": {
     "base_uri": "https://localhost:8080/",
     "height": 269
    },
    "executionInfo": {
     "elapsed": 260,
     "status": "ok",
     "timestamp": 1651385796376,
     "user": {
      "displayName": "Sebastian Paglia",
      "userId": "05356319514303203784"
     },
     "user_tz": -120
    },
    "id": "AhxPqxpRmLAM",
    "outputId": "ee26ff13-572b-4942-b83c-79e9aab5de23"
   },
   "outputs": [
    {
     "data": {
      "text/html": [
       "<div>\n",
       "<style scoped>\n",
       "    .dataframe tbody tr th:only-of-type {\n",
       "        vertical-align: middle;\n",
       "    }\n",
       "\n",
       "    .dataframe tbody tr th {\n",
       "        vertical-align: top;\n",
       "    }\n",
       "\n",
       "    .dataframe thead th {\n",
       "        text-align: right;\n",
       "    }\n",
       "</style>\n",
       "<table border=\"1\" class=\"dataframe\">\n",
       "  <thead>\n",
       "    <tr style=\"text-align: right;\">\n",
       "      <th></th>\n",
       "      <th>MSE</th>\n",
       "      <th>MAE</th>\n",
       "      <th>R2</th>\n",
       "    </tr>\n",
       "  </thead>\n",
       "  <tbody>\n",
       "    <tr>\n",
       "      <th>Decision Tree</th>\n",
       "      <td>167.116161</td>\n",
       "      <td>10.162195</td>\n",
       "      <td>-0.906742</td>\n",
       "    </tr>\n",
       "    <tr>\n",
       "      <th>XGBRegressor</th>\n",
       "      <td>121.986461</td>\n",
       "      <td>8.881298</td>\n",
       "      <td>-0.391826</td>\n",
       "    </tr>\n",
       "    <tr>\n",
       "      <th>Random Forest</th>\n",
       "      <td>110.226477</td>\n",
       "      <td>8.526973</td>\n",
       "      <td>-0.257649</td>\n",
       "    </tr>\n",
       "    <tr>\n",
       "      <th>SVMRegressor</th>\n",
       "      <td>109.603093</td>\n",
       "      <td>8.104811</td>\n",
       "      <td>-0.250536</td>\n",
       "    </tr>\n",
       "    <tr>\n",
       "      <th>GradientBoosting</th>\n",
       "      <td>90.193463</td>\n",
       "      <td>7.756468</td>\n",
       "      <td>-0.029078</td>\n",
       "    </tr>\n",
       "    <tr>\n",
       "      <th>AdaBoostRegressor</th>\n",
       "      <td>89.924660</td>\n",
       "      <td>7.796373</td>\n",
       "      <td>-0.026011</td>\n",
       "    </tr>\n",
       "    <tr>\n",
       "      <th>Linear Regression</th>\n",
       "      <td>89.403731</td>\n",
       "      <td>7.638868</td>\n",
       "      <td>-0.020068</td>\n",
       "    </tr>\n",
       "  </tbody>\n",
       "</table>\n",
       "</div>"
      ],
      "text/plain": [
       "                          MSE        MAE        R2\n",
       "Decision Tree      167.116161  10.162195 -0.906742\n",
       "XGBRegressor       121.986461   8.881298 -0.391826\n",
       "Random Forest      110.226477   8.526973 -0.257649\n",
       "SVMRegressor       109.603093   8.104811 -0.250536\n",
       "GradientBoosting    90.193463   7.756468 -0.029078\n",
       "AdaBoostRegressor   89.924660   7.796373 -0.026011\n",
       "Linear Regression   89.403731   7.638868 -0.020068"
      ]
     },
     "execution_count": 36,
     "metadata": {},
     "output_type": "execute_result"
    }
   ],
   "source": [
    "metrics=pd.DataFrame.from_dict(data, orient='index', columns=['MSE', 'MAE','R2'])\n",
    "metrics.sort_values([\"MSE\", \"MAE\", \"R2\"], ascending=(False, False, True))"
   ]
  },
  {
   "cell_type": "code",
   "execution_count": 37,
   "metadata": {
    "executionInfo": {
     "elapsed": 233,
     "status": "ok",
     "timestamp": 1651385820082,
     "user": {
      "displayName": "Sebastian Paglia",
      "userId": "05356319514303203784"
     },
     "user_tz": -120
    },
    "id": "YETP9nwT_9Yy"
   },
   "outputs": [],
   "source": [
    "best_model = metrics.sort_values([\"MSE\", \"MAE\", \"R2\"], ascending=(False, False, True))\n",
    "best_model[\"name\"]=best_model.index"
   ]
  },
  {
   "cell_type": "code",
   "execution_count": 38,
   "metadata": {
    "colab": {
     "base_uri": "https://localhost:8080/",
     "height": 36
    },
    "executionInfo": {
     "elapsed": 272,
     "status": "ok",
     "timestamp": 1651385821703,
     "user": {
      "displayName": "Sebastian Paglia",
      "userId": "05356319514303203784"
     },
     "user_tz": -120
    },
    "id": "a-TGU4I6ARu0",
    "outputId": "396d2c4e-cd1d-4a9b-b764-f3d4d45d9d7e"
   },
   "outputs": [
    {
     "data": {
      "text/plain": [
       "'Decision Tree'"
      ]
     },
     "execution_count": 38,
     "metadata": {},
     "output_type": "execute_result"
    }
   ],
   "source": [
    "name_bm = best_model.iloc[0].name\n",
    "name_bm"
   ]
  },
  {
   "cell_type": "code",
   "execution_count": 39,
   "metadata": {
    "executionInfo": {
     "elapsed": 229,
     "status": "ok",
     "timestamp": 1651385824394,
     "user": {
      "displayName": "Sebastian Paglia",
      "userId": "05356319514303203784"
     },
     "user_tz": -120
    },
    "id": "3UwPvDO0UeLR"
   },
   "outputs": [],
   "source": [
    "data2={}\n",
    "model_fit=models[name_bm].fit(X_learn, y_learn)\n",
    "y_pred=model_fit.predict(X_learn)\n",
    "metrics2=[mean_squared_error(y_learn, y_pred),mean_absolute_error(y_learn, y_pred),r2_score(y_learn, y_pred)]\n",
    "data2[name_bm]=metrics2"
   ]
  },
  {
   "cell_type": "code",
   "execution_count": 40,
   "metadata": {
    "colab": {
     "base_uri": "https://localhost:8080/"
    },
    "executionInfo": {
     "elapsed": 244,
     "status": "ok",
     "timestamp": 1651385826093,
     "user": {
      "displayName": "Sebastian Paglia",
      "userId": "05356319514303203784"
     },
     "user_tz": -120
    },
    "id": "4y9CBcuTU9Dm",
    "outputId": "8f81f81b-fbe5-44ca-e5bb-b61f74de334a"
   },
   "outputs": [
    {
     "data": {
      "text/plain": [
       "{'Decision Tree': [22.751427598402547, 2.402921616407757, 0.740238157148594]}"
      ]
     },
     "execution_count": 40,
     "metadata": {},
     "output_type": "execute_result"
    }
   ],
   "source": [
    "data2"
   ]
  },
  {
   "cell_type": "code",
   "execution_count": 41,
   "metadata": {
    "colab": {
     "base_uri": "https://localhost:8080/",
     "height": 334
    },
    "executionInfo": {
     "elapsed": 262,
     "status": "ok",
     "timestamp": 1651385831354,
     "user": {
      "displayName": "Sebastian Paglia",
      "userId": "05356319514303203784"
     },
     "user_tz": -120
    },
    "id": "G9N0N_KMFr8A",
    "outputId": "3942f88c-ca79-4458-a334-2f985169abe9"
   },
   "outputs": [
    {
     "data": {
      "text/html": [
       "<div>\n",
       "<style scoped>\n",
       "    .dataframe tbody tr th:only-of-type {\n",
       "        vertical-align: middle;\n",
       "    }\n",
       "\n",
       "    .dataframe tbody tr th {\n",
       "        vertical-align: top;\n",
       "    }\n",
       "\n",
       "    .dataframe thead th {\n",
       "        text-align: right;\n",
       "    }\n",
       "</style>\n",
       "<table border=\"1\" class=\"dataframe\">\n",
       "  <thead>\n",
       "    <tr style=\"text-align: right;\">\n",
       "      <th></th>\n",
       "      <th>Odometer</th>\n",
       "      <th>Rating</th>\n",
       "      <th>Displacement (ccm)</th>\n",
       "      <th>Power (hp)</th>\n",
       "      <th>Torque (Nm)</th>\n",
       "      <th>Bore (mm)</th>\n",
       "      <th>Stroke (mm)</th>\n",
       "      <th>Dry weight (kg)</th>\n",
       "      <th>Wheelbase (mm)</th>\n",
       "      <th>Seat height (mm)</th>\n",
       "    </tr>\n",
       "  </thead>\n",
       "  <tbody>\n",
       "    <tr>\n",
       "      <th>933</th>\n",
       "      <td>30000</td>\n",
       "      <td>3.550085</td>\n",
       "      <td>200.0</td>\n",
       "      <td>69.588497</td>\n",
       "      <td>64.669717</td>\n",
       "      <td>69.0</td>\n",
       "      <td>53.4</td>\n",
       "      <td>150.000000</td>\n",
       "      <td>1465.0</td>\n",
       "      <td>735.0</td>\n",
       "    </tr>\n",
       "    <tr>\n",
       "      <th>616</th>\n",
       "      <td>10000</td>\n",
       "      <td>3.700000</td>\n",
       "      <td>125.0</td>\n",
       "      <td>69.588497</td>\n",
       "      <td>64.669717</td>\n",
       "      <td>57.0</td>\n",
       "      <td>48.8</td>\n",
       "      <td>118.000000</td>\n",
       "      <td>1385.0</td>\n",
       "      <td>770.0</td>\n",
       "    </tr>\n",
       "    <tr>\n",
       "      <th>895</th>\n",
       "      <td>20000</td>\n",
       "      <td>3.300000</td>\n",
       "      <td>124.9</td>\n",
       "      <td>14.800000</td>\n",
       "      <td>12.200000</td>\n",
       "      <td>53.6</td>\n",
       "      <td>55.5</td>\n",
       "      <td>184.198749</td>\n",
       "      <td>1505.0</td>\n",
       "      <td>780.0</td>\n",
       "    </tr>\n",
       "    <tr>\n",
       "      <th>2031</th>\n",
       "      <td>20000</td>\n",
       "      <td>3.500000</td>\n",
       "      <td>249.0</td>\n",
       "      <td>29.500000</td>\n",
       "      <td>22.000000</td>\n",
       "      <td>60.0</td>\n",
       "      <td>44.1</td>\n",
       "      <td>161.000000</td>\n",
       "      <td>1405.0</td>\n",
       "      <td>725.0</td>\n",
       "    </tr>\n",
       "    <tr>\n",
       "      <th>569</th>\n",
       "      <td>30000</td>\n",
       "      <td>3.800000</td>\n",
       "      <td>645.0</td>\n",
       "      <td>69.000000</td>\n",
       "      <td>69.000000</td>\n",
       "      <td>81.0</td>\n",
       "      <td>62.6</td>\n",
       "      <td>213.000000</td>\n",
       "      <td>1560.0</td>\n",
       "      <td>830.0</td>\n",
       "    </tr>\n",
       "  </tbody>\n",
       "</table>\n",
       "</div>"
      ],
      "text/plain": [
       "      Odometer    Rating  Displacement (ccm)  Power (hp)  Torque (Nm)  \\\n",
       "933      30000  3.550085               200.0   69.588497    64.669717   \n",
       "616      10000  3.700000               125.0   69.588497    64.669717   \n",
       "895      20000  3.300000               124.9   14.800000    12.200000   \n",
       "2031     20000  3.500000               249.0   29.500000    22.000000   \n",
       "569      30000  3.800000               645.0   69.000000    69.000000   \n",
       "\n",
       "      Bore (mm)  Stroke (mm)  Dry weight (kg)  Wheelbase (mm)  \\\n",
       "933        69.0         53.4       150.000000          1465.0   \n",
       "616        57.0         48.8       118.000000          1385.0   \n",
       "895        53.6         55.5       184.198749          1505.0   \n",
       "2031       60.0         44.1       161.000000          1405.0   \n",
       "569        81.0         62.6       213.000000          1560.0   \n",
       "\n",
       "      Seat height (mm)  \n",
       "933              735.0  \n",
       "616              770.0  \n",
       "895              780.0  \n",
       "2031             725.0  \n",
       "569              830.0  "
      ]
     },
     "execution_count": 41,
     "metadata": {},
     "output_type": "execute_result"
    }
   ],
   "source": [
    "X_test.head()"
   ]
  },
  {
   "cell_type": "code",
   "execution_count": 42,
   "metadata": {
    "executionInfo": {
     "elapsed": 218,
     "status": "ok",
     "timestamp": 1651385834759,
     "user": {
      "displayName": "Sebastian Paglia",
      "userId": "05356319514303203784"
     },
     "user_tz": -120
    },
    "id": "x5AvCchGDmXM"
   },
   "outputs": [],
   "source": [
    "X_test_ex = X_test.iloc[616]\n",
    "y_test_ex = y_test.iloc[616]"
   ]
  },
  {
   "cell_type": "code",
   "execution_count": 43,
   "metadata": {
    "colab": {
     "base_uri": "https://localhost:8080/"
    },
    "executionInfo": {
     "elapsed": 2,
     "status": "ok",
     "timestamp": 1651385835934,
     "user": {
      "displayName": "Sebastian Paglia",
      "userId": "05356319514303203784"
     },
     "user_tz": -120
    },
    "id": "fyA6Uqyj9X8R",
    "outputId": "77aefb6b-75d4-4dc5-b6ce-34bb06277097"
   },
   "outputs": [
    {
     "name": "stderr",
     "output_type": "stream",
     "text": [
      "/Users/efwerr/UPCmasters/HackUPC/Mundimoto/env/lib/python3.10/site-packages/sklearn/base.py:450: UserWarning: X does not have valid feature names, but DecisionTreeRegressor was fitted with feature names\n",
      "  warnings.warn(\n"
     ]
    }
   ],
   "source": [
    "predicted = models[name_bm].predict([X_test_ex])\n",
    "expected = y_test_ex"
   ]
  },
  {
   "cell_type": "code",
   "execution_count": 44,
   "metadata": {
    "colab": {
     "base_uri": "https://localhost:8080/"
    },
    "executionInfo": {
     "elapsed": 242,
     "status": "ok",
     "timestamp": 1651385838691,
     "user": {
      "displayName": "Sebastian Paglia",
      "userId": "05356319514303203784"
     },
     "user_tz": -120
    },
    "id": "2rACa26885Mf",
    "outputId": "0a366644-cc6f-43be-82bc-18bedf5c66a7"
   },
   "outputs": [
    {
     "name": "stdout",
     "output_type": "stream",
     "text": [
      "[16.] 29.0\n"
     ]
    }
   ],
   "source": [
    "print(predicted, expected)"
   ]
  },
  {
   "cell_type": "code",
   "execution_count": 45,
   "metadata": {
    "colab": {
     "base_uri": "https://localhost:8080/",
     "height": 265
    },
    "executionInfo": {
     "elapsed": 4215,
     "status": "ok",
     "timestamp": 1651385861531,
     "user": {
      "displayName": "Sebastian Paglia",
      "userId": "05356319514303203784"
     },
     "user_tz": -120
    },
    "id": "a_nNRiUMYnUj",
    "outputId": "7a24343e-0058-41b5-b399-ccae81078af0"
   },
   "outputs": [
    {
     "data": {
      "text/plain": [
       "<Figure size 4500x3900 with 0 Axes>"
      ]
     },
     "metadata": {},
     "output_type": "display_data"
    },
    {
     "data": {
      "image/png": "[encoded data removed]",
      "text/plain": [
       "<Figure size 432x288 with 1 Axes>"
      ]
     },
     "metadata": {
      "needs_background": "light"
     },
     "output_type": "display_data"
    }
   ],
   "source": [
    "figure(figsize=(15, 13), dpi=300)\n",
    "plt.figure()\n",
    "tree.plot_tree(models[name_bm], max_depth=5, filled=True)\n",
    "plt.savefig('exploitation/models/tree.pdf',format='pdf', bbox_inches = \"tight\")"
   ]
  },
  {
   "cell_type": "code",
   "execution_count": 46,
   "metadata": {},
   "outputs": [
    {
     "name": "stdout",
     "output_type": "stream",
     "text": [
      "-0.8709613912808767\n"
     ]
    }
   ],
   "source": [
    "import pickle\n",
    "filename = 'exploitation/models/finalized_model.sav'\n",
    "pickle.dump(models[name_bm], open(filename, 'wb'))\n",
    " \n",
    "# some time later...\n",
    " \n",
    "# load the model from disk\n",
    "loaded_model = pickle.load(open(filename, 'rb'))\n",
    "result = loaded_model.score(X_test, y_test)\n",
    "print(result)"
   ]
  },
  {
   "cell_type": "code",
   "execution_count": null,
   "metadata": {},
   "outputs": [],
   "source": []
  }
 ],
 "metadata": {
  "colab": {
   "authorship_tag": "ABX9TyPswFHtO69/FY3A0bgCxHHz",
   "collapsed_sections": [],
   "name": "Model.ipynb",
   "provenance": []
  },
  "kernelspec": {
   "display_name": "Python 3 (ipykernel)",
   "language": "python",
   "name": "python3"
  },
  "language_info": {
   "codemirror_mode": {
    "name": "ipython",
    "version": 3
   },
   "file_extension": ".py",
   "mimetype": "text/x-python",
   "name": "python",
   "nbconvert_exporter": "python",
   "pygments_lexer": "ipython3",
   "version": "3.10.4"
  }
 },
 "nbformat": 4,
 "nbformat_minor": 4
}
